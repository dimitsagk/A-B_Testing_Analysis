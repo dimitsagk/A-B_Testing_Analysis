{
 "cells": [
  {
   "cell_type": "markdown",
   "id": "040f3745-ba62-4ec1-989e-56dbe29821c9",
   "metadata": {},
   "source": [
    "**Goals for this Notebook:**\n",
    "\n",
    "Having conducted an initial analysis, I have gained a comprehensive understanding of the dataset, including valuable insights into the main customer segments and the overall data structure.\n",
    "\n",
    "In this notebook, I will focus on analyzing the results of our A/B testing. The process is structured as follows:\n",
    "\n",
    "**Chapter 00: Files preparation**\n",
    "- Ensure all necessary files are correctly prepared and loaded for the analysis.\n",
    "  \n",
    "**Chapter 01: Defining the Metrics Base**\n",
    "  - Define the criteria for a valid session, which involves setting specific rules to accurately capture user visits to the website.\n",
    "\n",
    "**Chapter 02: Measuring KPIs and Testing Hypotheses**\n",
    "  - Measure the Key Performance Indicators (KPIs) to evaluate the performance of the test and control groups.\n",
    "  - Compare the completion rates of the online process between the test and control groups.\n",
    "  - Conduct statistical tests to validate the hypotheses and determine the significance of the results.\n",
    "\n",
    "This structured approach will ensure a thorough and accurate analysis of the A/B test outcomes."
   ]
  },
  {
   "cell_type": "markdown",
   "id": "4a5f714b-93aa-4d96-ae67-f153643255fd",
   "metadata": {},
   "source": [
    "# 00. Files preparation"
   ]
  },
  {
   "cell_type": "markdown",
   "id": "dfec3f57-62f6-4f55-a2d3-3207f9f57c39",
   "metadata": {},
   "source": [
    "## Importing libraries"
   ]
  },
  {
   "cell_type": "code",
   "execution_count": 1,
   "id": "38c8738f-d997-4d41-88fc-9e77fc6cfa14",
   "metadata": {},
   "outputs": [],
   "source": [
    "import pandas as pd\n",
    "import matplotlib.pyplot as plt\n",
    "import matplotlib.patches as mpatches # used for the legend at step duration\n",
    "import seaborn as sns\n",
    "import numpy as np\n",
    "import datetime\n",
    "import scipy.stats as st\n",
    "from scipy.stats import chi2_contingency\n",
    "from scipy.stats.contingency import association\n",
    "\n",
    "from functions import cleaning "
   ]
  },
  {
   "cell_type": "code",
   "execution_count": 2,
   "id": "1d8f7193-997f-4df7-a0df-26f1e30b5a60",
   "metadata": {},
   "outputs": [],
   "source": [
    "# Disabling a specific type of warning from Jupyter, that I know if mistaken for something else\n",
    "pd.options.mode.chained_assignment = None "
   ]
  },
  {
   "cell_type": "markdown",
   "id": "bcf307d6-bc23-47f1-9410-1ed6f3068d51",
   "metadata": {},
   "source": [
    "## Loading dataset"
   ]
  },
  {
   "cell_type": "markdown",
   "id": "ffde2577-2cfc-4a5a-9d97-bdef19368291",
   "metadata": {},
   "source": [
    "Datasets provided by Ironhack."
   ]
  },
  {
   "cell_type": "code",
   "execution_count": 3,
   "id": "76486e4d-0e18-4dc5-a7a3-6a7b5ac78f7f",
   "metadata": {},
   "outputs": [],
   "source": [
    "filepath1 = '../Data/df_final_demo.txt' # Client Profiles\n",
    "filepath2 = '../Data/df_final_web_data_pt_1.txt' # Digital Footprints, part 1\n",
    "filepath3 = '../Data/df_final_web_data_pt_2.txt' # Digital Footprints, part 2\n",
    "filepath4 = '../Data/df_final_experiment_clients.txt' # Experiment Roster \n",
    "\n",
    "# Loading datasets\n",
    "df_clients = pd.read_csv(filepath1)\n",
    "df2 = pd.read_csv(filepath2)\n",
    "df3 = pd.read_csv(filepath3)\n",
    "df_roster = pd.read_csv(filepath4)\n",
    "\n",
    "# Merging part 1 and 2 of Digital Footprints\n",
    "df_trace = pd.concat([df2, df3], axis=0, ignore_index=True)"
   ]
  },
  {
   "cell_type": "markdown",
   "id": "c8bd5ef7-8ce0-4206-a521-0f015436f47d",
   "metadata": {},
   "source": [
    "## Data cleaning"
   ]
  },
  {
   "cell_type": "code",
   "execution_count": 4,
   "id": "f67b1e4b-f644-402d-8aa4-79db600f407b",
   "metadata": {},
   "outputs": [],
   "source": [
    "# Calling the cleaning function I created at the functions.py file\n",
    "df_clients, df_trace, df_roster, _ = cleaning(df_clients, df_trace, df_roster)"
   ]
  },
  {
   "cell_type": "markdown",
   "id": "2677295f-a0ba-47ed-997c-b5dad27cc9e2",
   "metadata": {},
   "source": [
    "# 01. Defining the Metrics Base"
   ]
  },
  {
   "cell_type": "markdown",
   "id": "9c6830fc-4db7-475f-a5cf-c16797c92ade",
   "metadata": {},
   "source": [
    "After inspecting the data, I noticed some inconsistencies and possible errors in the **visit_id**. This is important because for the A/B testing analysis, I need to accurately determine how many clients complete the process and compare the two groups (test and control).\n",
    "\n",
    "Specifically, I observed that for the same client, the visit_id sometimes changed even when there were only a few seconds between steps (likely due to page refreshes). Conversely, the same visit_id sometimes spanned steps that were days apart.\n",
    "\n",
    "In a real-life scenario, I would consult the IT team to understand the criteria for assigning visit_id and decide whether it can be trusted. Additionally, I would align this with the business goals, considering the user session duration that the business aims to achieve.\n",
    "\n",
    "**Since this project uses a public dataset, I will define my own rules for what constitutes a valid session.** To do this, I will:\n",
    "1. **Calculate Time Between Steps:** Calculate the time between successful steps (steps that move forward, not backward).\n",
    "2. **Identify Outliers:** Use statistical methods to identify outliers in the time between steps.\n",
    "3. **Prepare the Files:** Add necessary columns and prepare the data to facilitate the definition of valid sessions.\n",
    "4. **Define Valid Sessions:** Based on the findings, establish rules to define what constitutes a valid session."
   ]
  },
  {
   "cell_type": "markdown",
   "id": "b81118f5-621e-4573-8f56-601ea6e758a4",
   "metadata": {},
   "source": [
    "## Calculate time between moving forward steps"
   ]
  },
  {
   "cell_type": "code",
   "execution_count": 5,
   "id": "f73de332-7edf-49ea-b529-d156c69d0549",
   "metadata": {},
   "outputs": [],
   "source": [
    "# will use all the data for that (both from test and control group)\n",
    "# making a copy to not change the original dataframe\n",
    "df_step_time = df_trace.copy()\n",
    "\n",
    "# Changing step names, sorting dataframe and resseting index, to help with the analysis below\n",
    "df_step_time['process_step'] = df_step_time['process_step'].map({'start':1,'step_1':2,'step_2':3,'step_3':4,'confirm':5})\n",
    "df_step_time.sort_values(by=['visit_id','date_time'], ascending=False, inplace=True)\n",
    "df_step_time = df_step_time.reset_index(drop=True)\n",
    "\n",
    "# Adding new columns with previous visit_id, previous process step and previous time, to help with the analysis below\n",
    "df_step_time['prev_visit_id'] = df_step_time['visit_id'].shift(-1, fill_value=0)\n",
    "df_step_time['prev_process_step'] = df_step_time['process_step'].shift(-1, fill_value=0)\n",
    "df_step_time['prev_date_time'] = df_step_time['date_time'].shift(-1, fill_value='1970-01-01 00:00:00')\n",
    "\n",
    "\n",
    "# Converting to datetime\n",
    "df_step_time['date_time'] = pd.to_datetime(df_step_time['date_time'],format='%Y-%m-%d %H:%M:%S')\n",
    "df_step_time['prev_date_time'] = pd.to_datetime(df_step_time['prev_date_time'],format='%Y-%m-%d %H:%M:%S')\n",
    "\n",
    "\n",
    "# Adding a new layer, to check how the current step and the previous step compare\n",
    "df_step_time['subtracting_step'] = df_step_time['process_step'] - df_step_time['prev_process_step']\n",
    "\n",
    "# Adding a new layer, to find the time between successful steps, and filter out the ones with no useful info\n",
    "df_step_time['subtracting_date_time'] = df_step_time['date_time'] - df_step_time['prev_date_time']\n",
    "\n",
    "\n",
    "# Filtering the sample, to the interactions that moved one step forward == 1\n",
    "# and excluding the ones that had substraction with the placeholder date '1970-01-01 00:00:00' < 10000 days\n",
    "filtered_df_step_time = df_step_time[(df_step_time['subtracting_step'] == 1) & (\n",
    "    df_step_time['subtracting_date_time'] < '10000 days 00:00:00') & (\n",
    "    df_step_time['visit_id'] == df_step_time['prev_visit_id'])]"
   ]
  },
  {
   "cell_type": "code",
   "execution_count": 6,
   "id": "8558070d-f137-41d8-87e5-17fba5384605",
   "metadata": {},
   "outputs": [
    {
     "data": {
      "text/plain": [
       "count                       442623\n",
       "mean     0 days 00:01:00.451167246\n",
       "std      0 days 00:01:41.177206532\n",
       "min                0 days 00:00:00\n",
       "25%                0 days 00:00:12\n",
       "50%                0 days 00:00:31\n",
       "75%                0 days 00:01:09\n",
       "max                0 days 01:00:36\n",
       "Name: subtracting_date_time, dtype: object"
      ]
     },
     "execution_count": 6,
     "metadata": {},
     "output_type": "execute_result"
    }
   ],
   "source": [
    "filtered_df_step_time['subtracting_date_time'].describe()"
   ]
  },
  {
   "cell_type": "code",
   "execution_count": 7,
   "id": "da2d2c68-5fd2-4d58-ac85-ae447fa55a84",
   "metadata": {},
   "outputs": [
    {
     "data": {
      "text/plain": [
       "Timedelta('0 days 00:03:25')"
      ]
     },
     "execution_count": 7,
     "metadata": {},
     "output_type": "execute_result"
    }
   ],
   "source": [
    "filtered_df_step_time['subtracting_date_time'].quantile(0.95) #  3 minutes at the 95% percentile"
   ]
  },
  {
   "cell_type": "markdown",
   "id": "3dc5956d-c208-421c-8f45-8d7dffbbe0a2",
   "metadata": {},
   "source": [
    "### Defining outliers with statistical methods"
   ]
  },
  {
   "cell_type": "code",
   "execution_count": 10,
   "id": "53b7aeca-4831-4dc0-9849-aa600a5039ed",
   "metadata": {},
   "outputs": [
    {
     "data": {
      "text/plain": [
       "Timedelta('0 days 00:02:06')"
      ]
     },
     "execution_count": 10,
     "metadata": {},
     "output_type": "execute_result"
    }
   ],
   "source": [
    "# defining outliers with the IQR method\n",
    "IQR = filtered_df_step_time['subtracting_date_time'].quantile(0.75) - filtered_df_step_time['subtracting_date_time'].quantile(0.25)\n",
    "upper_limit_for_outliers = filtered_df_step_time['subtracting_date_time'].quantile(0.75) + IQR\n",
    "upper_limit_for_outliers"
   ]
  },
  {
   "cell_type": "code",
   "execution_count": 11,
   "id": "b4486df5-78fe-4338-99d7-e207204fcc0b",
   "metadata": {},
   "outputs": [
    {
     "data": {
      "text/plain": [
       "Timedelta('0 days 00:06:03.982786842')"
      ]
     },
     "execution_count": 11,
     "metadata": {},
     "output_type": "execute_result"
    }
   ],
   "source": [
    "# defining outliers with standard deviation method\n",
    "filtered_df_step_time['subtracting_date_time'].mean() + filtered_df_step_time['subtracting_date_time'].std()*3"
   ]
  },
  {
   "cell_type": "markdown",
   "id": "536e33bd-41e5-470d-b00a-86190a21d5e7",
   "metadata": {},
   "source": [
    "By this sample analysis, it appears that the average duration for a step forward in the online interaction is approximately 2 minutes, with the majority of the observations(95% percentile) within a range of around 3,5 minutes. **To identify outliers, I utilized statistical methods, opting for the Standard Deviation method (multpiplied by 3)**, which indicates that **anything exceeding 6 minutes and 4 seconds should be considered an outlier**.  \n",
    "\n",
    "I will incorporate the identified duration as a threshold to distinguish between sessions in digital footstep analysis. Considering typical intervals between steps of less than the threshold will help determine continuity within sessions versus potential new sessions."
   ]
  },
  {
   "cell_type": "markdown",
   "id": "4a07c940-3ffd-4695-8b2b-c836230523d9",
   "metadata": {},
   "source": [
    "## Data preparation: Splitting dataset for test and control group, cleaning etc"
   ]
  },
  {
   "cell_type": "code",
   "execution_count": 12,
   "id": "253dcfa3-fb57-4a6d-b115-10a0d21c26dc",
   "metadata": {},
   "outputs": [],
   "source": [
    "# First separating the datasets for the test and control group\n",
    "df_roster_test = df_roster[df_roster.variation == 'Test']\n",
    "df_roster_control = df_roster[df_roster.variation == 'Control']\n",
    "\n",
    "df_test = df_trace[df_trace.client_id.isin(df_roster_test.client_id.unique().tolist())]\n",
    "df_control = df_trace[df_trace.client_id.isin(df_roster_control.client_id.unique().tolist())]"
   ]
  },
  {
   "cell_type": "code",
   "execution_count": 13,
   "id": "8a8e5bb3-e4fb-4cb5-aee6-aafd13711564",
   "metadata": {},
   "outputs": [],
   "source": [
    "def df_prep(df):\n",
    "    ''' Preparing the data for analysis.\n",
    "    I created the function, cause the same preparation will be done for two datasets (for test and control group).\n",
    "\n",
    "    Receives dataframe as parameter and returns updated dataframe.'''\n",
    "\n",
    "    # Rename column for brevity\n",
    "    df = df.rename(columns={'process_step': 'step'})\n",
    "\n",
    "    # Replacing the step names with numbers for analysis purposes (will do subtraction later)\n",
    "    df['step']  = df['step'].map({'start':1,'step_1':2,'step_2':3,'step_3':4,'confirm':5})\n",
    "    \n",
    "    # Sorting dataframe\n",
    "    df.sort_values(by=['client_id','date_time'], ascending=False, inplace=True)\n",
    "\n",
    "    # Dropping the columns that are not needed\n",
    "    df.drop(columns=['visitor_id','visit_id'], inplace=True)\n",
    "   \n",
    "    # Resetting index\n",
    "    df = df.reset_index(drop=True)\n",
    "\n",
    "    \n",
    "    # New columns for analysis\n",
    "    # Adding new columns that I will use for comparison: previous  and next client_id\n",
    "    df['prev_id'] = df['client_id'].shift(-1, fill_value=0)\n",
    "    df['next_id'] = df['client_id'].shift(1, fill_value=0)\n",
    "\n",
    "    # Adding new columns that I will use for comparison: previous and next step\n",
    "    df['prev_step'] = df['step'].shift(-1, fill_value=0)\n",
    "    df['next_step'] = df['step'].shift(1, fill_value=0)\n",
    "\n",
    "    # Adding new columns that I will use for comparison: previous datetime, next datetime\n",
    "    df['prev_time'] = df['date_time'].shift(-1, fill_value='1970-01-01 00:00:00')\n",
    "    df['prev_time'] = pd.to_datetime(df['prev_time'],format='%Y-%m-%d %H:%M:%S')\n",
    "\n",
    "    df['next_time'] = df['date_time'].shift(1, fill_value='1970-01-01 00:00:00')\n",
    "    df['next_time'] = pd.to_datetime(df['next_time'],format='%Y-%m-%d %H:%M:%S')\n",
    "\n",
    "    # Adding new columns that I will use for comparison: time difference between current and last step\n",
    "    df['time_diff_prev'] = df['date_time'] - df['prev_time']\n",
    "\n",
    "    # Adding new columns that I will use for comparison: step duration (difference of following datime with current one)\n",
    "    df['time_diff_next'] = df['next_time'] - df['date_time']\n",
    "\n",
    "    # Adding a new layer, to count the steps back, but making sure that I don't compare different clients\n",
    "    df['subtract_step'] = np.where(df['client_id'] == df['prev_id'],(df['step'] - df['prev_step']),0)\n",
    "\n",
    "    \n",
    "    return df"
   ]
  },
  {
   "cell_type": "code",
   "execution_count": 14,
   "id": "cbb76775-63f6-4b97-95a8-b34cbfdd9160",
   "metadata": {},
   "outputs": [],
   "source": [
    "df_test = df_prep(df_test)\n",
    "df_control = df_prep(df_control)"
   ]
  },
  {
   "cell_type": "markdown",
   "id": "5ba157f4-0f9e-4b34-b6a9-69a1e109247d",
   "metadata": {},
   "source": [
    "## Define valid sessions"
   ]
  },
  {
   "cell_type": "markdown",
   "id": "b9d76927-5d4a-4438-83dd-96403db8fe14",
   "metadata": {},
   "source": [
    "Conditions:\n",
    "\n",
    "The conditions aim to identify the start of a new session within a sequence of actions. **If the current action is the first step ('start') and either the previous client is different or the time gap between the current and previous step exceeds the threshold of 6 minutes and 2 seconds, it signifies the start of a new session**. \n",
    "\n",
    "Note: The threshold of 6 minutes and 2 seconds is derived from thesample analysis of the time between steps, completed above in the document. Using the standard deviation method (multiplying by 3), it was determined that anything above 6 minutes and 2 seconds could be considered an outlier. This threshold helps identify significant time gaps between steps indicative of a new session."
   ]
  },
  {
   "cell_type": "code",
   "execution_count": 18,
   "id": "0f55b531-f0fa-4ba7-8d95-9949bd0bd4fb",
   "metadata": {},
   "outputs": [],
   "source": [
    "# Adding new columns that I will use for comparison: counting the new sessions\n",
    "\n",
    "df_test['new_session'] = False\n",
    "df_control['new_session'] = False\n",
    "\n",
    "\n",
    "# Threshold of 6 min and 2 seconds, result of the sample analysis\n",
    "threshold_6m = datetime.timedelta(seconds=362) # to be adjusted if needed\n",
    "\n",
    "conditions = np.array(\n",
    "    (df_test['step'] == 1) & \n",
    "    ((df_test['time_diff_prev'] > threshold_6m) |\n",
    "    (df_test['client_id'] != df_test['prev_id']))\n",
    ")\n",
    "df_test.loc[conditions, 'new_session'] = True\n",
    "\n",
    "\n",
    "# Doing the same for the 'control' dataframe\n",
    "\n",
    "conditions = np.array(\n",
    "    (df_control['step'] == 1) & \n",
    "    ((df_control['time_diff_prev'] > threshold_6m) |\n",
    "    (df_control['client_id'] != df_control['prev_id']))\n",
    ")\n",
    "df_control.loc[conditions, 'new_session'] = True\n",
    "\n",
    "\n",
    "# Sorting everything to ascending order, to help with following steps\n",
    "\n",
    "df_test.sort_values(by=['client_id','date_time'], ascending=True, inplace=True)\n",
    "df_control.sort_values(by=['client_id','date_time'], ascending=True, inplace=True)"
   ]
  },
  {
   "cell_type": "code",
   "execution_count": 19,
   "id": "18fe56e0-c535-4860-8150-32d7f0922be4",
   "metadata": {},
   "outputs": [],
   "source": [
    "# Defining seperate sessions\n",
    "\n",
    "count = 0  # Initialize count outside the function\n",
    "\n",
    "def session_id(new_session):\n",
    "    ''' Function to define the seperate sessions'''\n",
    "    \n",
    "    global count  # Access the count variable from outside the function\n",
    "    \n",
    "    if new_session == True:\n",
    "        count += 1\n",
    "        return count       \n",
    "    else:\n",
    "        return count\n",
    "\n",
    "\n",
    "# Calling session_id that is defined in functions.py\n",
    "df_test['session_id'] = df_test['new_session'].apply(session_id)\n",
    "\n",
    "\n",
    "# Doing the same for the 'control' dataframe\n",
    "count = 0  # Resetting count outside the function\n",
    "\n",
    "df_control['session_id'] = df_control['new_session'].apply(session_id)"
   ]
  },
  {
   "cell_type": "markdown",
   "id": "66f6f6bc-ad5b-42ef-8cc6-fe9d429c3111",
   "metadata": {},
   "source": [
    "###  Sessions info"
   ]
  },
  {
   "cell_type": "markdown",
   "id": "f618aa82-8be6-46c7-9a90-084c066cf232",
   "metadata": {},
   "source": [
    "Conditions\n",
    "\n",
    "**Valid Session**:\n",
    "A valid session is characterized by consecutive steps occurring within a duration of no more than 6 minutes.\n",
    "\n",
    "**Invalid Session**:\n",
    "An invalid session is identified when the time interval between consecutive steps exceeds 6 minutes.\n",
    "\n",
    "**Successful Session**:\n",
    "A successful session is a valid session that successfully reaches the 'confirm' stage after traversing all required steps ('start', 'step1', 'step2', 'step3'). In cases of multiple 'confirm' steps, the last one is regarded as the official confirm. Metrics for successful sessions include quantifying the total number of steps taken, the total number of steps taken backward, and calculating the duration from the session start to the final valid confirm step.\n",
    "\n",
    "**Unsuccessful Session**:\n",
    "Unsuccessful session is one that fails to reach the 'confirm' stage completely or reaches 'confirm' without passing through the necessary steps. These sessions may be flagged for further investigation to understand the reasons behind the incomplete or irregular user behavior."
   ]
  },
  {
   "cell_type": "code",
   "execution_count": 20,
   "id": "17b33953-90f9-4b41-867b-15b94159b40d",
   "metadata": {},
   "outputs": [],
   "source": [
    "# Variable to count steps until 'confirm'\n",
    "steps_count = 1\n",
    "# Variable to count how many steps back there were per session\n",
    "steps_back = 0\n",
    "# Variable to count how many valid 'confirms' have been per session\n",
    "confirm_count = 0\n",
    "# Variable to check if there are more than 1 'confirm' in the same session\n",
    "confirmed = False\n",
    "# Variable to check if the session is valid\n",
    "valid = True\n",
    "# Variables to see if per session steps 1,2,3 were completed before 'confirm'\n",
    "check_1 = False\n",
    "check_2 = False\n",
    "check_3 = False\n",
    "# Variable to measure how long a session that reached 'confirm' lasted\n",
    "session_start = '1970-01-01 00:00:00'\n",
    "\n",
    "\n",
    "def session_info(df):\n",
    "    # To access the variable from outside the function\n",
    "    global steps_count \n",
    "    global steps_back\n",
    "    global confirm_count\n",
    "    global confirmed\n",
    "    global valid\n",
    "    global check_1\n",
    "    global check_2\n",
    "    global check_3\n",
    "    global session_start\n",
    "\n",
    "    threshold = datetime.timedelta(seconds=362)\n",
    "    \n",
    "    if df['new_session'] == True:\n",
    "        # Resetting the counts for the new sessions\n",
    "        steps_count = 1\n",
    "        steps_back = 0\n",
    "        confirm_count = 0\n",
    "        confirmed = False\n",
    "        valid = True\n",
    "        session_start = df['date_time']\n",
    "        session_start = pd.to_datetime(session_start,format='%Y-%m-%d %H:%M:%S')\n",
    "        check_1 = False\n",
    "        check_2 = False\n",
    "        checl_3 = False        \n",
    "        return [confirm_count, steps_count, steps_back, df['time_diff_next'], pd.NaT, 'valid']\n",
    "\n",
    "    elif df['time_diff_prev'] < datetime.timedelta(seconds=0):\n",
    "        # this refers to the few cases, that have the same session id, but different client_id, etc\n",
    "        # and they are in the same session_id because the new session needs 'start' to be defined.\n",
    "        # if the next client just started from any other valid, it is invalid, but currently it is \n",
    "        # noted as the same session as the one above it.\n",
    "        valid = False\n",
    "        return [confirm_count, steps_count, steps_back, pd.NaT, pd.NaT, 'invalid']\n",
    "    \n",
    "    elif df['time_diff_prev'] < threshold and valid:\n",
    "        \n",
    "        if df['step'] in (1,2,3,4):\n",
    "            if df['step'] == 2:\n",
    "                check_1 = True\n",
    "            elif df['step'] == 3:\n",
    "                check_2 = True\n",
    "            else:\n",
    "                check_3 = True\n",
    "                \n",
    "            # Counting the steps back\n",
    "            if df['subtract_step'] < 0:\n",
    "                steps_back += abs(df['subtract_step'])            \n",
    "            \n",
    "            # Counting the total steps\n",
    "            steps_count += 1\n",
    "\n",
    "            return [confirm_count, steps_count, steps_back, df['time_diff_next'], pd.NaT, 'valid']\n",
    " \n",
    "        # At the first valid 'confirm' I am returning the total number of steps\n",
    "        elif df['step'] == 5 and not confirmed and check_1 and check_2 and check_3:\n",
    "            confirm_count = 1\n",
    "            confirmed = True\n",
    "            steps_count += 1\n",
    "            session_dur = df['date_time'] - session_start\n",
    "            return [confirm_count, steps_count, steps_back, pd.NaT, session_dur,'valid']\n",
    "        \n",
    "        # When more than one 'confirm' happen within the valid timeframe, I need to return the updated info, \n",
    "        # and add a step count for the first 'confirm'\n",
    "        elif df['step'] == 5 and confirmed and check_1 and check_2 and check_3:\n",
    "            confirm_count += 1\n",
    "            session_dur = df['date_time'] - session_start\n",
    "            steps_count += 1\n",
    "            return [confirm_count, steps_count, steps_back, pd.NaT, session_dur,'valid']\n",
    "    \n",
    "        # Checking the case where'confirm' is reached without passing from all the necessary steps\n",
    "        elif df['step'] == 5 and not confirmed:\n",
    "            # I am considering it a valid session but not a successful one\n",
    "            # I will count it as an extra step, but that can be defined better later\n",
    "            steps_count += 1\n",
    "            return [confirm_count, steps_count, steps_back, df['time_diff_next'], pd.NaT, 'valid']\n",
    "    \n",
    "    elif df['time_diff_prev'] > threshold and valid:\n",
    "        valid = False\n",
    "        return [confirm_count, steps_count, steps_back, pd.NaT, pd.NaT, 'invalid']\n",
    "\n",
    "    else:\n",
    "        # this is the case where valid is already False\n",
    "        return [confirm_count, steps_count, steps_back, pd.NaT, pd.NaT, 'invalid']"
   ]
  },
  {
   "cell_type": "code",
   "execution_count": 21,
   "id": "80e7f094-896a-45b4-a495-07b2e7eccd64",
   "metadata": {},
   "outputs": [],
   "source": [
    "# Applying the above function\n",
    "df_test['session_info'] = df_test.apply(session_info, axis=1)\n",
    "df_control['session_info'] = df_control.apply(session_info, axis=1)\n",
    "\n",
    "\n",
    "# Dropping columns that will not be needed further, saving it to a new dataframe with results\n",
    "df_test_rslt = df_test.drop(columns=(['time_diff_next','time_diff_prev','new_session',\n",
    "                       'prev_id','next_id','prev_step','next_step','prev_time','next_time']))\n",
    "df_control_rslt = df_control.drop(columns=(['time_diff_next','time_diff_prev','new_session',\n",
    "                       'prev_id','next_id','prev_step','next_step','prev_time','next_time']))\n",
    "\n",
    "\n",
    "# Splitting the session info in more columns\n",
    "df_test_rslt[['confirm_cnt', 'steps_cnt', 'steps_back_cnt', 'step_dur',\n",
    "              'sess_dur_to_confirm','validity']] = df_test_rslt['session_info'].apply(pd.Series)\n",
    "df_control_rslt[['confirm_cnt', 'steps_cnt', 'steps_back_cnt', 'step_dur',\n",
    "              'sess_dur_to_confirm','validity']] = df_control_rslt['session_info'].apply(pd.Series)\n",
    "\n",
    "\n",
    "# Dropping the session_info column\n",
    "df_test_rslt = df_test_rslt.drop(columns=('session_info'))\n",
    "df_control_rslt = df_control_rslt.drop(columns=('session_info'))\n",
    "\n",
    "\n",
    "# Correcting invalid step_dur, if more than 6min and 2 sec, they are result of subtracting with the next session's time\n",
    "conditions = (df_test_rslt['step_dur'] > datetime.timedelta(seconds=363)) | (df_test_rslt['step_dur'] < datetime.timedelta(seconds=0))\n",
    "df_test_rslt.loc[conditions,'step_dur'] = pd.NaT\n",
    "\n",
    "conditions = (df_control_rslt['step_dur'] > datetime.timedelta(seconds=363)) | (df_control_rslt['step_dur'] < datetime.timedelta(seconds=0))\n",
    "df_control_rslt.loc[conditions,'step_dur'] = pd.NaT\n",
    "\n",
    "# Transforming the duration to seconds\n",
    "df_test_rslt['step_dur'] = df_test_rslt['step_dur'].dt.total_seconds().apply(lambda x: '{:.0f}'.format(x))\n",
    "df_control_rslt['step_dur'] = df_control_rslt['step_dur'].dt.total_seconds().apply(lambda x: '{:.0f}'.format(x))"
   ]
  },
  {
   "cell_type": "code",
   "execution_count": 22,
   "id": "52db1924-9a51-4641-bf46-5fc894f053d3",
   "metadata": {},
   "outputs": [
    {
     "data": {
      "text/html": [
       "<div>\n",
       "<style scoped>\n",
       "    .dataframe tbody tr th:only-of-type {\n",
       "        vertical-align: middle;\n",
       "    }\n",
       "\n",
       "    .dataframe tbody tr th {\n",
       "        vertical-align: top;\n",
       "    }\n",
       "\n",
       "    .dataframe thead th {\n",
       "        text-align: right;\n",
       "    }\n",
       "</style>\n",
       "<table border=\"1\" class=\"dataframe\">\n",
       "  <thead>\n",
       "    <tr style=\"text-align: right;\">\n",
       "      <th></th>\n",
       "      <th>client_id</th>\n",
       "      <th>step</th>\n",
       "      <th>date_time</th>\n",
       "      <th>subtract_step</th>\n",
       "      <th>session_id</th>\n",
       "      <th>confirm_cnt</th>\n",
       "      <th>steps_cnt</th>\n",
       "      <th>steps_back_cnt</th>\n",
       "      <th>step_dur</th>\n",
       "      <th>sess_dur_to_confirm</th>\n",
       "      <th>validity</th>\n",
       "    </tr>\n",
       "  </thead>\n",
       "  <tbody>\n",
       "    <tr>\n",
       "      <th>176698</th>\n",
       "      <td>1001101</td>\n",
       "      <td>1</td>\n",
       "      <td>2017-04-05 16:55:20</td>\n",
       "      <td>0</td>\n",
       "      <td>1</td>\n",
       "      <td>0</td>\n",
       "      <td>1</td>\n",
       "      <td>0</td>\n",
       "      <td>13</td>\n",
       "      <td>NaT</td>\n",
       "      <td>valid</td>\n",
       "    </tr>\n",
       "    <tr>\n",
       "      <th>176697</th>\n",
       "      <td>1001101</td>\n",
       "      <td>2</td>\n",
       "      <td>2017-04-05 16:55:33</td>\n",
       "      <td>1</td>\n",
       "      <td>1</td>\n",
       "      <td>0</td>\n",
       "      <td>2</td>\n",
       "      <td>0</td>\n",
       "      <td>29</td>\n",
       "      <td>NaT</td>\n",
       "      <td>valid</td>\n",
       "    </tr>\n",
       "    <tr>\n",
       "      <th>176696</th>\n",
       "      <td>1001101</td>\n",
       "      <td>3</td>\n",
       "      <td>2017-04-05 16:56:02</td>\n",
       "      <td>1</td>\n",
       "      <td>1</td>\n",
       "      <td>0</td>\n",
       "      <td>3</td>\n",
       "      <td>0</td>\n",
       "      <td>32</td>\n",
       "      <td>NaT</td>\n",
       "      <td>valid</td>\n",
       "    </tr>\n",
       "    <tr>\n",
       "      <th>176695</th>\n",
       "      <td>1001101</td>\n",
       "      <td>2</td>\n",
       "      <td>2017-04-05 16:56:34</td>\n",
       "      <td>-1</td>\n",
       "      <td>1</td>\n",
       "      <td>0</td>\n",
       "      <td>4</td>\n",
       "      <td>1</td>\n",
       "      <td>26</td>\n",
       "      <td>NaT</td>\n",
       "      <td>valid</td>\n",
       "    </tr>\n",
       "    <tr>\n",
       "      <th>176694</th>\n",
       "      <td>1001101</td>\n",
       "      <td>3</td>\n",
       "      <td>2017-04-05 16:57:00</td>\n",
       "      <td>1</td>\n",
       "      <td>1</td>\n",
       "      <td>0</td>\n",
       "      <td>5</td>\n",
       "      <td>1</td>\n",
       "      <td>20</td>\n",
       "      <td>NaT</td>\n",
       "      <td>valid</td>\n",
       "    </tr>\n",
       "  </tbody>\n",
       "</table>\n",
       "</div>"
      ],
      "text/plain": [
       "       client_id  step           date_time  subtract_step  session_id  \\\n",
       "176698   1001101     1 2017-04-05 16:55:20              0           1   \n",
       "176697   1001101     2 2017-04-05 16:55:33              1           1   \n",
       "176696   1001101     3 2017-04-05 16:56:02              1           1   \n",
       "176695   1001101     2 2017-04-05 16:56:34             -1           1   \n",
       "176694   1001101     3 2017-04-05 16:57:00              1           1   \n",
       "\n",
       "        confirm_cnt  steps_cnt  steps_back_cnt step_dur sess_dur_to_confirm  \\\n",
       "176698            0          1               0       13                 NaT   \n",
       "176697            0          2               0       29                 NaT   \n",
       "176696            0          3               0       32                 NaT   \n",
       "176695            0          4               1       26                 NaT   \n",
       "176694            0          5               1       20                 NaT   \n",
       "\n",
       "       validity  \n",
       "176698    valid  \n",
       "176697    valid  \n",
       "176696    valid  \n",
       "176695    valid  \n",
       "176694    valid  "
      ]
     },
     "execution_count": 22,
     "metadata": {},
     "output_type": "execute_result"
    }
   ],
   "source": [
    "df_test_rslt.head()"
   ]
  },
  {
   "cell_type": "code",
   "execution_count": 23,
   "id": "7f9f1733-b20c-4467-ad9e-301ead268152",
   "metadata": {},
   "outputs": [
    {
     "data": {
      "text/html": [
       "<div>\n",
       "<style scoped>\n",
       "    .dataframe tbody tr th:only-of-type {\n",
       "        vertical-align: middle;\n",
       "    }\n",
       "\n",
       "    .dataframe tbody tr th {\n",
       "        vertical-align: top;\n",
       "    }\n",
       "\n",
       "    .dataframe thead th {\n",
       "        text-align: right;\n",
       "    }\n",
       "</style>\n",
       "<table border=\"1\" class=\"dataframe\">\n",
       "  <thead>\n",
       "    <tr style=\"text-align: right;\">\n",
       "      <th></th>\n",
       "      <th>client_id</th>\n",
       "      <th>step</th>\n",
       "      <th>date_time</th>\n",
       "      <th>subtract_step</th>\n",
       "      <th>session_id</th>\n",
       "      <th>confirm_cnt</th>\n",
       "      <th>steps_cnt</th>\n",
       "      <th>steps_back_cnt</th>\n",
       "      <th>step_dur</th>\n",
       "      <th>sess_dur_to_confirm</th>\n",
       "      <th>validity</th>\n",
       "    </tr>\n",
       "  </thead>\n",
       "  <tbody>\n",
       "    <tr>\n",
       "      <th>140535</th>\n",
       "      <td>1000062</td>\n",
       "      <td>1</td>\n",
       "      <td>2017-04-06 15:38:49</td>\n",
       "      <td>0</td>\n",
       "      <td>1</td>\n",
       "      <td>0</td>\n",
       "      <td>1</td>\n",
       "      <td>0</td>\n",
       "      <td>182</td>\n",
       "      <td>NaT</td>\n",
       "      <td>valid</td>\n",
       "    </tr>\n",
       "    <tr>\n",
       "      <th>140534</th>\n",
       "      <td>1000062</td>\n",
       "      <td>2</td>\n",
       "      <td>2017-04-06 15:41:51</td>\n",
       "      <td>1</td>\n",
       "      <td>1</td>\n",
       "      <td>0</td>\n",
       "      <td>2</td>\n",
       "      <td>0</td>\n",
       "      <td>10</td>\n",
       "      <td>NaT</td>\n",
       "      <td>valid</td>\n",
       "    </tr>\n",
       "    <tr>\n",
       "      <th>140533</th>\n",
       "      <td>1000062</td>\n",
       "      <td>3</td>\n",
       "      <td>2017-04-06 15:42:01</td>\n",
       "      <td>1</td>\n",
       "      <td>1</td>\n",
       "      <td>0</td>\n",
       "      <td>3</td>\n",
       "      <td>0</td>\n",
       "      <td>49</td>\n",
       "      <td>NaT</td>\n",
       "      <td>valid</td>\n",
       "    </tr>\n",
       "    <tr>\n",
       "      <th>140532</th>\n",
       "      <td>1000062</td>\n",
       "      <td>4</td>\n",
       "      <td>2017-04-06 15:42:50</td>\n",
       "      <td>1</td>\n",
       "      <td>1</td>\n",
       "      <td>0</td>\n",
       "      <td>4</td>\n",
       "      <td>0</td>\n",
       "      <td>nan</td>\n",
       "      <td>NaT</td>\n",
       "      <td>valid</td>\n",
       "    </tr>\n",
       "    <tr>\n",
       "      <th>140531</th>\n",
       "      <td>1000062</td>\n",
       "      <td>5</td>\n",
       "      <td>2017-04-06 15:54:49</td>\n",
       "      <td>1</td>\n",
       "      <td>1</td>\n",
       "      <td>0</td>\n",
       "      <td>4</td>\n",
       "      <td>0</td>\n",
       "      <td>nan</td>\n",
       "      <td>NaT</td>\n",
       "      <td>invalid</td>\n",
       "    </tr>\n",
       "  </tbody>\n",
       "</table>\n",
       "</div>"
      ],
      "text/plain": [
       "       client_id  step           date_time  subtract_step  session_id  \\\n",
       "140535   1000062     1 2017-04-06 15:38:49              0           1   \n",
       "140534   1000062     2 2017-04-06 15:41:51              1           1   \n",
       "140533   1000062     3 2017-04-06 15:42:01              1           1   \n",
       "140532   1000062     4 2017-04-06 15:42:50              1           1   \n",
       "140531   1000062     5 2017-04-06 15:54:49              1           1   \n",
       "\n",
       "        confirm_cnt  steps_cnt  steps_back_cnt step_dur sess_dur_to_confirm  \\\n",
       "140535            0          1               0      182                 NaT   \n",
       "140534            0          2               0       10                 NaT   \n",
       "140533            0          3               0       49                 NaT   \n",
       "140532            0          4               0      nan                 NaT   \n",
       "140531            0          4               0      nan                 NaT   \n",
       "\n",
       "       validity  \n",
       "140535    valid  \n",
       "140534    valid  \n",
       "140533    valid  \n",
       "140532    valid  \n",
       "140531  invalid  "
      ]
     },
     "execution_count": 23,
     "metadata": {},
     "output_type": "execute_result"
    }
   ],
   "source": [
    "df_control_rslt.head()"
   ]
  },
  {
   "cell_type": "markdown",
   "id": "b3af9f9e-3d43-489e-bb3f-920c0e268323",
   "metadata": {},
   "source": [
    "# 02. Text/ control group: Performance Metrics"
   ]
  },
  {
   "cell_type": "markdown",
   "id": "cc318959-7780-48ec-ae8f-92290f8cdc5b",
   "metadata": {},
   "source": [
    "## Completion Rate"
   ]
  },
  {
   "cell_type": "markdown",
   "id": "74280e1c-cd59-48b8-9a49-13b6e4fed66f",
   "metadata": {},
   "source": [
    "Setting hypothesis:\n",
    "\n",
    "- H0 (Null Hypothesis): the completion rates are independent of the group assignment."
   ]
  },
  {
   "cell_type": "code",
   "execution_count": 24,
   "id": "64a3cc89-59d3-45a8-9a0e-d484dd1cc65f",
   "metadata": {},
   "outputs": [],
   "source": [
    "# Total number of sessions per group\n",
    "test_sessions = df_test_rslt['session_id'].nunique() # 34883 sessions in total\n",
    "control_sessions = df_control_rslt['session_id'].nunique() # 32304 sessions in total\n",
    "\n",
    "# Total number of sessions that reached confirm\n",
    "test_confirm = df_test_rslt[df_test_rslt['confirm_cnt'] == 1]['session_id'].nunique() # 16654 confirmed\n",
    "control_confirm = df_control_rslt[df_control_rslt['confirm_cnt'] == 1]['session_id'].nunique() # 13534 confirmed\n",
    "\n",
    "# Completion Rate\n",
    "test_completion_rate = round(test_confirm *100 / test_sessions,2) # 47.74% = p2, n2 = 34883\n",
    "control_completion_rate = round(control_confirm *100 / control_sessions,2) # 41.90% = p1, n1 = 3204"
   ]
  },
  {
   "cell_type": "markdown",
   "id": "69422859-324f-4c04-ac47-f26704908c87",
   "metadata": {},
   "source": [
    "To test this I will perform **test of proportions**:"
   ]
  },
  {
   "cell_type": "markdown",
   "id": "0f765bb2-c9e4-49bb-b4ea-ce6b2099cbc2",
   "metadata": {},
   "source": [
    "$$H_{0}: p_{1} - p_{2} \\le 0$$\n",
    "$$H_{1/a}: p_{1} - p_{2} \\gt 0 $$\n",
    "$$ z = \\frac{(p_{1} - p_{2})}{\\sqrt{p(1-p) \\left (\\frac{1}{n_{1}} + \\frac{1}{n_{2}}\\right ) }}$$\n",
    "$$p_{1} = \\frac{x_{1}}{n_{1}}; p_{2} = \\frac{x_{2}}{n_{2}}$$\n",
    "$$p=\\frac{(x_{1}+x_{2})}{(n_{1} + n_{2})}$$"
   ]
  },
  {
   "cell_type": "code",
   "execution_count": 25,
   "id": "e8b9e9d2-9425-44de-b622-690c1e14ed03",
   "metadata": {},
   "outputs": [
    {
     "name": "stdout",
     "output_type": "stream",
     "text": [
      "The value of rd is -5.81\n",
      "The value of p_1_p is  0.25\n",
      "The value of inverse is  0.0001\n",
      "The value of the root is  0.0038\n",
      "The value of the z statistic is -1512.87\n"
     ]
    }
   ],
   "source": [
    "p1 = control_completion_rate\n",
    "p2 = test_completion_rate\n",
    "p = ( test_confirm + control_confirm ) / ( test_sessions + control_sessions )\n",
    "\n",
    "rd = ( p1 - p2 )\n",
    "p_1_p = p * (1-p)\n",
    "inverse = (1 / control_sessions ) + ( 1 / test_sessions )\n",
    "\n",
    "z = rd / np.sqrt(p_1_p * inverse)\n",
    "\n",
    "print(f\"The value of rd is {rd: .2f}\")\n",
    "print(f\"The value of p_1_p is {p_1_p: .2f}\")\n",
    "print(f\"The value of inverse is {inverse: .4f}\")\n",
    "print(f\"The value of the root is {np.sqrt(p_1_p * inverse): .4f}\")\n",
    "print(f\"The value of the z statistic is {z: .2f}\")"
   ]
  },
  {
   "cell_type": "markdown",
   "id": "ef8a0d44-312b-4ee5-ba04-af00656440bc",
   "metadata": {},
   "source": [
    "Based on these results, we do not reject the null hypothesis, meaning that the **test group does have higher completion rate than the control group**."
   ]
  },
  {
   "cell_type": "code",
   "execution_count": 26,
   "id": "129604b4-2607-4d54-ad7f-f727522eed97",
   "metadata": {},
   "outputs": [
    {
     "name": "stdout",
     "output_type": "stream",
     "text": [
      "The value of rd is -0.81\n",
      "The value of p_1_p is  0.25\n",
      "The value of inverse is  0.0001\n",
      "The value of the root is  0.0038\n",
      "The value of the z statistic is -210.92\n"
     ]
    }
   ],
   "source": [
    "# checking if it is above 5%\n",
    "\n",
    "p1 = control_completion_rate + 5\n",
    "p2 = test_completion_rate\n",
    "p = ( test_confirm + control_confirm ) / ( test_sessions + control_sessions )\n",
    "\n",
    "rd = ( p1 - p2 )\n",
    "p_1_p = p * (1-p)\n",
    "inverse = (1 / control_sessions ) + ( 1 / test_sessions )\n",
    "\n",
    "z = rd / np.sqrt(p_1_p * inverse)\n",
    "\n",
    "print(f\"The value of rd is {rd: .2f}\")\n",
    "print(f\"The value of p_1_p is {p_1_p: .2f}\")\n",
    "print(f\"The value of inverse is {inverse: .4f}\")\n",
    "print(f\"The value of the root is {np.sqrt(p_1_p * inverse): .4f}\")\n",
    "print(f\"The value of the z statistic is {z: .2f}\")"
   ]
  },
  {
   "cell_type": "code",
   "execution_count": 27,
   "id": "6aea9ad5-cd75-4f12-a511-03947936e6df",
   "metadata": {},
   "outputs": [
    {
     "data": {
      "image/png": "[encoded data removed]",
      "text/plain": [
       "<Figure size 600x600 with 1 Axes>"
      ]
     },
     "metadata": {},
     "output_type": "display_data"
    }
   ],
   "source": [
    "# Plot\n",
    "\n",
    "# Creating a DataFrame\n",
    "data = {\n",
    "    'Group': ['Test', 'Control'],\n",
    "    'Completed': [16625, 13518],\n",
    "    'Not Completed': [18258, 18786]\n",
    "}\n",
    "df = pd.DataFrame(data)\n",
    "\n",
    "# Reshaping the DataFrame\n",
    "df_melted = df.melt(id_vars='Group', var_name='Status', value_name='Count')\n",
    "\n",
    "# Custom colors for the groups\n",
    "custom_palette = {'Test': '#FFD700', 'Control': '#FF5200'}\n",
    "\n",
    "# Plotting\n",
    "plt.figure(figsize=(6, 6))\n",
    "sns.barplot(data=df_melted, x='Status', y='Count', hue='Group', palette=custom_palette)\n",
    "plt.title('Completed vs Not Completed Counts by Group')\n",
    "plt.xlabel('Status')\n",
    "plt.ylabel('Count')\n",
    "plt.legend(title='Group', bbox_to_anchor=(1.05, 1), loc='upper left')  # Move legend outside\n",
    "plt.tight_layout() \n",
    "plt.savefig('completed_vs_not_completed_per_group.png')\n",
    "plt.show()"
   ]
  },
  {
   "cell_type": "markdown",
   "id": "5d5d9e94-b712-45f3-befd-b92e9b797ba1",
   "metadata": {},
   "source": [
    "## Time spent on each step"
   ]
  },
  {
   "cell_type": "markdown",
   "id": "a723ef42-d2f5-4100-be53-9ff74273c246",
   "metadata": {},
   "source": [
    "Setting hypothesis:\n",
    "\n",
    "- H0 (Null Hypothesis): The mean time for step 1 in the 'test' group is greater than or equal to the mean time for step 1 in the 'control' group.\n",
    "- H1 (Alternative Hypothesis): The mean time for step 1 in the 'test' group is less than the mean time for step 1 in the 'control' group.\n",
    "\n",
    "Significance Level (α): 0.05 \n",
    "\n",
    "To test this, I will perform a **one-tailed t-test with two samples**."
   ]
  },
  {
   "cell_type": "code",
   "execution_count": 28,
   "id": "cdd4b7e1-f6dc-4645-8f43-5f5a35c8f009",
   "metadata": {},
   "outputs": [],
   "source": [
    "# this takes into account all the sessions (regardless success/ validity)\n",
    "\n",
    "# Removing rows with empty values in the 'step_dur' column. In most caseshese empty values occur when it's \n",
    "# the last step of the session and there's no next value to compare with\n",
    "test_step_dur = df_test_rslt[~(df_test_rslt['step_dur'] =='nan')]\n",
    "control_step_dur = df_control_rslt[~(df_control_rslt['step_dur'] =='nan')]\n",
    "\n",
    "# Converting step_dur to integers to do numerical operations\n",
    "test_step_dur['step_dur'] = test_step_dur['step_dur'].astype(int)\n",
    "control_step_dur['step_dur'] = control_step_dur['step_dur'].astype(int)\n",
    "\n",
    "# Dropping columns to prepare for the t-test\n",
    "test_step_dur.drop(columns = ['client_id','date_time','session_id','confirm_cnt',\n",
    "                              'steps_cnt','steps_back_cnt','sess_dur_to_confirm','validity'], inplace=True)\n",
    "control_step_dur.drop(columns = ['client_id','date_time','session_id','confirm_cnt',\n",
    "                                 'steps_cnt','steps_back_cnt','sess_dur_to_confirm','validity'], inplace=True)\n",
    "\n",
    "# Creating df for each step, for each group, for the t-test\n",
    "test_step_1_dur = test_step_dur[test_step_dur['step'] == 1]['step_dur']\n",
    "control_step_1_dur = control_step_dur[control_step_dur['step'] == 1]['step_dur']\n",
    "\n",
    "test_step_2_dur = test_step_dur[test_step_dur['step'] == 2]['step_dur']\n",
    "control_step_2_dur = control_step_dur[control_step_dur['step'] == 2]['step_dur']\n",
    "\n",
    "test_step_3_dur = test_step_dur[test_step_dur['step'] == 3]['step_dur']\n",
    "control_step_3_dur = control_step_dur[control_step_dur['step'] == 3]['step_dur']\n",
    "\n",
    "test_step_4_dur = test_step_dur[test_step_dur['step'] == 4]['step_dur']\n",
    "control_step_4_dur = control_step_dur[control_step_dur['step'] == 4]['step_dur']"
   ]
  },
  {
   "cell_type": "code",
   "execution_count": 29,
   "id": "17adbde3-40b4-4131-8867-dcef918a9e62",
   "metadata": {},
   "outputs": [
    {
     "data": {
      "text/plain": [
       "TtestResult(statistic=-9.125572406071743, pvalue=3.6545340722581184e-20, df=73941.9985407766)"
      ]
     },
     "execution_count": 29,
     "metadata": {},
     "output_type": "execute_result"
    }
   ],
   "source": [
    "# Conducting the t-test for step 1\n",
    "st.ttest_ind(test_step_1_dur,control_step_1_dur, equal_var=False, alternative='less')"
   ]
  },
  {
   "cell_type": "markdown",
   "id": "b769287a-792a-42e3-8f23-eee0edb48ef3",
   "metadata": {},
   "source": [
    "With such a small p-value (much less than the significance level of 0.05), we reject the null hypothesis. This suggests that **the mean time for step 1 in the 'test' group is significantly lower than the mean time for step 1 in the 'control' group**.\n",
    "\n",
    "Also looking at the negative t-statistic value of approximately -9.13, that indicates a significant difference between the two group means, suggesting that the mean duration for step 1 in the 'test' group is substantially lower than that in the 'control' group."
   ]
  },
  {
   "cell_type": "code",
   "execution_count": 30,
   "id": "30456a25-690d-4880-aebf-e78239098a6f",
   "metadata": {},
   "outputs": [
    {
     "data": {
      "text/plain": [
       "TtestResult(statistic=19.9933423127373, pvalue=1.0, df=57481.84511687176)"
      ]
     },
     "execution_count": 30,
     "metadata": {},
     "output_type": "execute_result"
    }
   ],
   "source": [
    "# Conducting the t-test for step 2\n",
    "st.ttest_ind(test_step_2_dur,control_step_2_dur, equal_var=False, alternative='less')"
   ]
  },
  {
   "cell_type": "markdown",
   "id": "2316a097-4260-48fe-84c1-b0b023b9ae4b",
   "metadata": {},
   "source": [
    "With a p-value of 1.0, we fail to reject the null hypothesis, suggesting that **the mean time for step 2 in the 'test' group is greater than the mean time for step 2 in the 'control' group**."
   ]
  },
  {
   "cell_type": "code",
   "execution_count": 31,
   "id": "22bda01a-0a55-4a11-ba11-5eca4fbb3bab",
   "metadata": {},
   "outputs": [
    {
     "data": {
      "text/plain": [
       "TtestResult(statistic=19.9933423127373, pvalue=6.306508529519198e-89, df=57481.84511687176)"
      ]
     },
     "execution_count": 31,
     "metadata": {},
     "output_type": "execute_result"
    }
   ],
   "source": [
    "# Conducting the t-test for step 2 - changing the Alternative Hypothesis\n",
    "st.ttest_ind(test_step_2_dur,control_step_2_dur, equal_var=False, alternative='greater')"
   ]
  },
  {
   "cell_type": "markdown",
   "id": "dc313eb8-ff07-4821-97b6-6e10a7bd6228",
   "metadata": {},
   "source": [
    "The t-test results with the alternative hypothesis as greater indicate a very low p-value (approximately 6.31e-89), suggesting strong evidence against the null hypothesis. This implies that the mean time for step 2 in the 'test' group is significantly greater than the mean time for step 2 in the 'control' group."
   ]
  },
  {
   "cell_type": "code",
   "execution_count": 32,
   "id": "ce4ff655-387a-4e82-9dbc-8eaea2c20362",
   "metadata": {},
   "outputs": [
    {
     "data": {
      "text/plain": [
       "TtestResult(statistic=-7.100256871384548, pvalue=6.312318724589271e-13, df=48074.17692052184)"
      ]
     },
     "execution_count": 32,
     "metadata": {},
     "output_type": "execute_result"
    }
   ],
   "source": [
    "# Conducting the t-test for step 3\n",
    "st.ttest_ind(test_step_3_dur,control_step_3_dur, equal_var=False, alternative='less')"
   ]
  },
  {
   "cell_type": "markdown",
   "id": "dfae1678-b289-455d-9840-20255409bc95",
   "metadata": {},
   "source": [
    "The very low p-value suggests strong evidence against the null hypothesis. Therefore, we can conclude that the **mean time for step 3 in the 'test' group is significantly lower than the mean time for step 3 in the 'control' group**."
   ]
  },
  {
   "cell_type": "code",
   "execution_count": 33,
   "id": "77537a2d-57aa-4796-8a36-68b7a7613b77",
   "metadata": {},
   "outputs": [
    {
     "data": {
      "text/plain": [
       "TtestResult(statistic=-14.307970828763475, pvalue=1.295957750347291e-46, df=37124.52451675948)"
      ]
     },
     "execution_count": 33,
     "metadata": {},
     "output_type": "execute_result"
    }
   ],
   "source": [
    "# Conducting the t-test for step 4\n",
    "st.ttest_ind(test_step_4_dur,control_step_4_dur, equal_var=False, alternative='less')"
   ]
  },
  {
   "cell_type": "markdown",
   "id": "de6df2cd-915d-4b3b-95ba-c912b1ecd16a",
   "metadata": {},
   "source": [
    "The very low p-value suggests strong evidence against the null hypothesis. Therefore, we can conclude that **the mean time for step 4 in the 'test' group is significantly lower than the mean time for step 4 in the 'control' group**."
   ]
  },
  {
   "cell_type": "code",
   "execution_count": 34,
   "id": "89550719-638b-47e1-a98b-87f9f47fe1a6",
   "metadata": {},
   "outputs": [
    {
     "data": {
      "image/png": "[encoded data removed]",
      "text/plain": [
       "<Figure size 640x480 with 1 Axes>"
      ]
     },
     "metadata": {},
     "output_type": "display_data"
    }
   ],
   "source": [
    "# Plot\n",
    "\n",
    "# Define the steps\n",
    "steps = ['start', 'step 1', 'step 2', 'step 3']\n",
    "\n",
    "# Define the mean durations for each step in the test group\n",
    "test_means = [test_step_1_dur.mean().round(2), test_step_2_dur.mean().round(2), \n",
    "              test_step_3_dur.mean().round(2), test_step_4_dur.mean().round(2)]\n",
    "\n",
    "# Define the mean durations for each step in the control group\n",
    "control_means = [control_step_1_dur.mean().round(2), control_step_2_dur.mean().round(2), \n",
    "                 control_step_3_dur.mean().round(2), control_step_4_dur.mean().round(2)]\n",
    "\n",
    "\n",
    "# Calculate the differences between test and control group mean durations\n",
    "differences = np.array(test_means) - np.array(control_means)\n",
    "\n",
    "# Set colors for positive and negative differences\n",
    "colors = ['#DFC120' if diff >= 0 else  '#DF5D20' for diff in differences]\n",
    "\n",
    "# Create a diverging bar chart\n",
    "plt.barh(steps, differences, color=colors)\n",
    "\n",
    "# Add labels and title\n",
    "plt.xlabel('Difference in Mean Duration (Test - Control)')\n",
    "plt.ylabel('Steps')\n",
    "plt.title('Difference in Mean Duration Between Test and Control Groups')\n",
    "\n",
    "# Add a vertical line at zero\n",
    "plt.axvline(x=0, color='black', linewidth=0.5)\n",
    "\n",
    "# Create legend\n",
    "blue_patch = mpatches.Patch(color='#DFC120', label='Test group longer')\n",
    "red_patch = mpatches.Patch(color='#DF5D20', label='Control group longer')\n",
    "plt.legend(handles=[blue_patch, red_patch], loc='lower right')\n",
    "\n",
    "# Show plot\n",
    "plt.tight_layout() \n",
    "plt.savefig('differnce_in_mean_completion_per_group.png')\n",
    "plt.show()"
   ]
  },
  {
   "cell_type": "markdown",
   "id": "7f4780f7-fdce-4cb9-9847-1358f23852b3",
   "metadata": {},
   "source": [
    "## Session duration"
   ]
  },
  {
   "cell_type": "markdown",
   "id": "0a3e097a-1a5b-48d2-8c3c-8bd33710ccef",
   "metadata": {},
   "source": [
    "In this case:\n",
    "\n",
    "- **Null Hypothesis (H0):** The mean session duration for the 'test' group is greater than or equal to the mean session duration for the 'control' group.\n",
    "- **Alternative Hypothesis (H1):** The mean session duration for the 'test' group is less than the mean session duration for the 'control' group.\n",
    "- **Type of Test:** One-tailed independent samples t-test.\n",
    "\n",
    "The test is assessing whether there's evidence to suggest that the mean session duration of the 'test' group is significantly less than that of the 'control' group."
   ]
  },
  {
   "cell_type": "code",
   "execution_count": 35,
   "id": "83e5d2f3-a517-4927-8a60-c5a4085f3f92",
   "metadata": {},
   "outputs": [],
   "source": [
    "# Dropping NaN -> keeping only the rows where sessions reached 'confirm'\n",
    "df_test_confirm = df_test_rslt.dropna(subset = 'sess_dur_to_confirm')\n",
    "df_control_confirm = df_control_rslt.dropna(subset = 'sess_dur_to_confirm')\n",
    "\n",
    "# Select the rows corresponding to the highest 'confirm_cnt' within each group\n",
    "df_test_confirm_fltrd = df_test_confirm.loc[df_test_confirm.groupby('session_id')['confirm_cnt'].idxmax()]\n",
    "df_control_confirm_fltrd = df_control_confirm.loc[df_control_confirm.groupby('session_id')['confirm_cnt'].idxmax()]\n",
    "\n",
    "#df_test_confirm_fltrd['sess_dur_to_confirm'].mean() # 00:04:32.37\n",
    "#df_control_confirm_fltrd['sess_dur_to_confirm'].mean() # 00:04:41.42\n",
    "\n",
    "test_confirm_dur = df_test_confirm_fltrd['sess_dur_to_confirm']\n",
    "control_confirm_dur = df_control_confirm_fltrd['sess_dur_to_confirm']\n",
    "\n",
    "# transforming the duration to seconds\n",
    "test_confirm_dur  = test_confirm_dur .dt.total_seconds().apply(lambda x: '{:.0f}'.format(x))\n",
    "control_confirm_dur  = control_confirm_dur .dt.total_seconds().apply(lambda x: '{:.0f}'.format(x))\n",
    "\n",
    "test_confirm_dur  = test_confirm_dur [~(test_confirm_dur =='nan')]\n",
    "control_confirm_dur  = control_confirm_dur [~(control_confirm_dur =='nan')]\n",
    "# Converting step_dur to integers to do numerical operations\n",
    "test_confirm_dur = test_confirm_dur.astype(int)\n",
    "control_confirm_dur = control_confirm_dur.astype(int)"
   ]
  },
  {
   "cell_type": "code",
   "execution_count": 36,
   "id": "bcd5ca1d-6845-488e-9682-5d2d6bc953eb",
   "metadata": {},
   "outputs": [
    {
     "data": {
      "text/plain": [
       "TtestResult(statistic=-4.568580896563888, pvalue=2.4650278610726664e-06, df=29778.647617239814)"
      ]
     },
     "execution_count": 36,
     "metadata": {},
     "output_type": "execute_result"
    }
   ],
   "source": [
    "# Conducting the t-test for step 1\n",
    "st.ttest_ind(test_confirm_dur,control_confirm_dur, equal_var=False, alternative='less')"
   ]
  },
  {
   "cell_type": "markdown",
   "id": "c9a4474c-46d8-4314-8a7a-7d36e26a7cdc",
   "metadata": {},
   "source": [
    "The results of the t-test for step 1 indicate a statistically significant difference in the session duration between the 'test' and 'control' groups. The negative t-statistic value (-4.57) suggests that the mean session duration for the 'test' group is lower than that of the 'control' group. Additionally, the very low p-value (2.47e-06) indicates strong evidence against the null hypothesis, supporting the alternative hypothesis that **the mean session duration for the 'test' group is less than the mean session duration for the 'control' group**."
   ]
  },
  {
   "cell_type": "code",
   "execution_count": 37,
   "id": "777a18d2-2b3b-488a-9f86-9caddfde8c9c",
   "metadata": {},
   "outputs": [
    {
     "data": {
      "image/png": "[encoded data removed]",
      "text/plain": [
       "<Figure size 400x500 with 1 Axes>"
      ]
     },
     "metadata": {},
     "output_type": "display_data"
    }
   ],
   "source": [
    "# Plot\n",
    "\n",
    "# Calculate mean session duration to confirmation for each group\n",
    "test_mean_dur = test_confirm_dur.mean()\n",
    "control_mean_dur = control_confirm_dur.mean()\n",
    "\n",
    "# Data\n",
    "groups = ['Test', 'Control']\n",
    "mean_durations = [test_mean_dur, control_mean_dur]\n",
    "\n",
    "# Plot\n",
    "plt.figure(figsize=(4, 5))\n",
    "\n",
    "plt.bar(groups, mean_durations, color=['#DFC120', '#DF5D20'])\n",
    "plt.xlabel('Groups')\n",
    "plt.ylabel('Mean Session Duration to Confirm (sec)')\n",
    "plt.title('Mean Session Duration to Confirmation')\n",
    "plt.tight_layout() \n",
    "plt.savefig('mean_session_duration_per_group.png')\n",
    "plt.show()"
   ]
  },
  {
   "cell_type": "markdown",
   "id": "fca220fc-b904-43b7-8192-4abbeb0c73eb",
   "metadata": {},
   "source": [
    "## Total number of steps"
   ]
  },
  {
   "cell_type": "code",
   "execution_count": 38,
   "id": "4efa3806-e545-4afb-bf34-73b1b3ac0069",
   "metadata": {},
   "outputs": [
    {
     "data": {
      "text/plain": [
       "5.78"
      ]
     },
     "execution_count": 38,
     "metadata": {},
     "output_type": "execute_result"
    }
   ],
   "source": [
    "# this takes into account the successful and valid sessions\n",
    "df_test_confirm_fltrd['steps_cnt'].mean().round(2) # 5.93 \n",
    "df_control_confirm_fltrd['steps_cnt'].mean().round(2) # 5.78"
   ]
  },
  {
   "cell_type": "code",
   "execution_count": 39,
   "id": "7e2fcf05-d541-430a-8791-0bd2db09c485",
   "metadata": {},
   "outputs": [
    {
     "data": {
      "text/plain": [
       "TtestResult(statistic=7.296205515442493, pvalue=1.516796217048252e-13, df=29875.11165130957)"
      ]
     },
     "execution_count": 39,
     "metadata": {},
     "output_type": "execute_result"
    }
   ],
   "source": [
    "st.ttest_ind(df_test_confirm_fltrd['steps_cnt'],df_control_confirm_fltrd['steps_cnt'], equal_var=False, alternative='greater')"
   ]
  },
  {
   "cell_type": "markdown",
   "id": "410ad5b9-968a-4c8a-9a99-13c6390ea0d8",
   "metadata": {},
   "source": [
    "The t-test results with the alternative hypothesis set to 'greater' indicate a statistic value of approximately 7.30 and a p-value of approximately 1.52e-13. This suggests that there is strong evidence to reject the null hypothesis in favor of the alternative hypothesis. In other words, **there is a significant difference between the mean number of steps completed in the 'Test' group compared to the 'Control' group, with the 'Test' group having a greater mean number of steps**."
   ]
  },
  {
   "cell_type": "code",
   "execution_count": 40,
   "id": "25530c5f-59fd-4f89-8073-f43f8164afe1",
   "metadata": {},
   "outputs": [
    {
     "data": {
      "image/png": "[encoded data removed]",
      "text/plain": [
       "<Figure size 400x500 with 1 Axes>"
      ]
     },
     "metadata": {},
     "output_type": "display_data"
    }
   ],
   "source": [
    "# Plot\n",
    "\n",
    "# Calculate mean number of steps completed for each group\n",
    "mean_steps_test = df_test_confirm_fltrd['steps_cnt'].mean()\n",
    "mean_steps_control = df_control_confirm_fltrd['steps_cnt'].mean()\n",
    "\n",
    "# Plot\n",
    "plt.figure(figsize=(4,5))\n",
    "plt.bar(['Test Group', 'Control Group'], [mean_steps_test, mean_steps_control], color=['#DFC120', '#DF5D20'])\n",
    "plt.xlabel('Group')\n",
    "plt.ylabel('Mean Number of Steps Completed')\n",
    "plt.title('Mean Number of Steps')\n",
    "plt.tight_layout() \n",
    "plt.savefig('mean_number_steps_per_group.png')\n",
    "plt.show()\n"
   ]
  },
  {
   "cell_type": "code",
   "execution_count": 41,
   "id": "b9ce84d5-7768-455d-ad19-63cfcf5fa457",
   "metadata": {},
   "outputs": [],
   "source": [
    "test_total_steps = df_test_confirm_fltrd['steps_cnt'].sum() # 98532\n",
    "control_total_steps = df_control_confirm_fltrd['steps_cnt'].sum() # 78146"
   ]
  },
  {
   "cell_type": "code",
   "execution_count": 42,
   "id": "2cb88535-35be-4e11-8475-fb4c07f63f04",
   "metadata": {},
   "outputs": [
    {
     "data": {
      "image/png": "[encoded data removed]",
      "text/plain": [
       "<Figure size 400x500 with 1 Axes>"
      ]
     },
     "metadata": {},
     "output_type": "display_data"
    }
   ],
   "source": [
    "# Plot\n",
    "\n",
    "# Data\n",
    "data_total_steps = {\n",
    "    'Group': ['Test Group', 'Control Group'],\n",
    "    'Total Steps': [98532, 78146]\n",
    "}\n",
    "\n",
    "# Create DataFrame\n",
    "df_total_steps = pd.DataFrame(data_total_steps)\n",
    "\n",
    "# Set the Group column as the index\n",
    "df_total_steps.set_index('Group', inplace=True)\n",
    "\n",
    "# Define custom palette\n",
    "custom_palette = {'Test Group': '#DFC120', 'Control Group': '#DF5D20'}\n",
    "\n",
    "# Plot\n",
    "plt.figure(figsize=(4, 5))\n",
    "sns.barplot(x=df_total_steps.index, y='Total Steps', data=df_total_steps, hue =df_total_steps.index, palette=custom_palette)\n",
    "plt.xlabel('Group')\n",
    "plt.ylabel('Total Steps')\n",
    "plt.title('Total Steps by Group')\n",
    "plt.show()\n"
   ]
  },
  {
   "cell_type": "markdown",
   "id": "d0a17988-e429-47e1-b4f8-06367686c6b6",
   "metadata": {},
   "source": [
    "## Error rates"
   ]
  },
  {
   "cell_type": "markdown",
   "id": "e61e4423-0049-47b5-b62b-2eb4569c7a2b",
   "metadata": {},
   "source": [
    "#### Multiple confirms"
   ]
  },
  {
   "cell_type": "code",
   "execution_count": 43,
   "id": "3e30b352-ab48-4526-af71-561cd73110bc",
   "metadata": {},
   "outputs": [],
   "source": [
    "df_test_confirm_fltrd['confirm_cnt'].mean().round(2) # 1.11  <---\n",
    "df_control_confirm_fltrd['confirm_cnt'].mean().round(2) # 1.05\n",
    "\n",
    "# because 'confirm_cnt' counts also the first confirm, to find the extra confirm, I need to subtract\n",
    "test_extra_confirm = df_test_confirm_fltrd['confirm_cnt'].sum() - test_confirm # 1843\n",
    "control_extra_confirm = df_control_confirm_fltrd['confirm_cnt'].sum() - control_confirm # 695\n",
    "\n",
    "# Extra confirm rate, percentage to successfull sessions (with 'confirm')\n",
    "# I choose the successful sessions for this percentage because the steps back are measured from the successfull sessions\n",
    "test_extra_confirm_rateper_confirm = round(test_extra_confirm *100 / test_confirm,2) # 11.09\n",
    "control_extra_confirm_rate_per_confirm = round(control_extra_confirm *100 / control_confirm,2) # 5.14"
   ]
  },
  {
   "cell_type": "code",
   "execution_count": 44,
   "id": "ddf6ded7-af28-4423-916c-87a0c45d08bf",
   "metadata": {},
   "outputs": [
    {
     "data": {
      "text/plain": [
       "TtestResult(statistic=14.099454569474894, pvalue=2.6608746664540934e-45, df=30136.698999282697)"
      ]
     },
     "execution_count": 44,
     "metadata": {},
     "output_type": "execute_result"
    }
   ],
   "source": [
    "st.ttest_ind(df_test_confirm_fltrd['confirm_cnt'],df_control_confirm_fltrd['confirm_cnt'], equal_var=False, alternative='greater')"
   ]
  },
  {
   "cell_type": "markdown",
   "id": "ccc35f6b-9169-49b8-b56d-562671275a95",
   "metadata": {},
   "source": [
    "The very small p-value of approximately 2.66e-45 indicates strong evidence against the null hypothesis. Therefore, we reject the null hypothesis and conclude that **the mean confirmed count in the test group is significantly greater than in the control group**."
   ]
  },
  {
   "cell_type": "markdown",
   "id": "7bdeae72-25bc-41b8-b956-1e158b89354f",
   "metadata": {},
   "source": [
    "#### Steps back"
   ]
  },
  {
   "cell_type": "code",
   "execution_count": 45,
   "id": "30562be5-f622-45f2-afdb-e391ed8eaa26",
   "metadata": {},
   "outputs": [
    {
     "data": {
      "text/plain": [
       "3996"
      ]
     },
     "execution_count": 45,
     "metadata": {},
     "output_type": "execute_result"
    }
   ],
   "source": [
    "# this takes into account the successful and valid sessions\n",
    "df_test_confirm_fltrd['steps_back_cnt'].mean().round(2) # 0.32  <---\n",
    "df_control_confirm_fltrd['steps_back_cnt'].mean().round(2) # 0.3\n",
    "\n",
    "df_test_confirm_fltrd['steps_back_cnt'].sum() # 5318\n",
    "df_control_confirm_fltrd['steps_back_cnt'].sum() # 3996"
   ]
  },
  {
   "cell_type": "code",
   "execution_count": 46,
   "id": "ab9734aa-ff7b-457d-931e-b0247e8bb155",
   "metadata": {},
   "outputs": [
    {
     "data": {
      "text/plain": [
       "TtestResult(statistic=2.574463965325324, pvalue=0.005022176578119216, df=29693.35130005687)"
      ]
     },
     "execution_count": 46,
     "metadata": {},
     "output_type": "execute_result"
    }
   ],
   "source": [
    "st.ttest_ind(df_test_confirm_fltrd['steps_back_cnt'],df_control_confirm_fltrd['steps_back_cnt'], equal_var=False, alternative='greater')"
   ]
  },
  {
   "cell_type": "code",
   "execution_count": 47,
   "id": "1662c551-96a6-4ee7-8e8a-56bffb293321",
   "metadata": {},
   "outputs": [
    {
     "data": {
      "image/png": "[encoded data removed]",
      "text/plain": [
       "<Figure size 600x600 with 1 Axes>"
      ]
     },
     "metadata": {},
     "output_type": "display_data"
    }
   ],
   "source": [
    "# Plot\n",
    "\n",
    "test_total_steps = 98532\n",
    "control_total_steps = 78146\n",
    "test_extra_confirm = 1843\n",
    "control_extra_confirm = 695\n",
    "test_steps_back = df_test_confirm_fltrd['steps_back_cnt'].sum()\n",
    "control_steps_back = df_control_confirm_fltrd['steps_back_cnt'].sum()\n",
    "\n",
    "# Calculate percentages\n",
    "test_confirm_percentage = test_extra_confirm / test_total_steps * 100 # 1.87%\n",
    "control_confirm_percentage = control_extra_confirm / control_total_steps * 100 # 0.89%\n",
    "test_steps_back_percentage = test_steps_back / test_total_steps * 100 # 5.40%\n",
    "control_steps_back_percentage = control_steps_back / control_total_steps * 100 # 5.11%\n",
    "\n",
    "# Data\n",
    "data = {\n",
    "    'Group': ['Test', 'Control'],\n",
    "    'Multiple Confirms': [test_confirm_percentage, control_confirm_percentage],\n",
    "    'Steps Back': [test_steps_back_percentage, control_steps_back_percentage]\n",
    "}\n",
    "df = pd.DataFrame(data)\n",
    "\n",
    "# Melt the dataframe\n",
    "df_melted = pd.melt(df, id_vars='Group', var_name='Category', value_name='Percentage')\n",
    "\n",
    "custom_palette = {'Test': '#FFD700', 'Control': '#FF5200'}\n",
    "\n",
    "# Plot\n",
    "plt.figure(figsize=(6, 6))\n",
    "sns.barplot(x='Category', y='Percentage', hue='Group', data=df_melted, palette=custom_palette)\n",
    "plt.title('Percentage of Multiple Confirms and Steps Back by Group')\n",
    "plt.xlabel('Category')\n",
    "plt.ylabel('Percentage')\n",
    "plt.legend(title='Group')\n",
    "plt.tight_layout() \n",
    "plt.savefig('percentage_confrims_steps_back.png')\n",
    "\n",
    "plt.show()\n"
   ]
  },
  {
   "cell_type": "code",
   "execution_count": 48,
   "id": "438a6aee-233d-4560-b376-b29368a973a7",
   "metadata": {},
   "outputs": [],
   "source": [
    "# is there any specific step that had more steps back? "
   ]
  },
  {
   "cell_type": "code",
   "execution_count": 49,
   "id": "ff91f26e-9729-4fcf-aab2-b9e2b985c5ae",
   "metadata": {
    "scrolled": true
   },
   "outputs": [
    {
     "data": {
      "text/html": [
       "<div>\n",
       "<style scoped>\n",
       "    .dataframe tbody tr th:only-of-type {\n",
       "        vertical-align: middle;\n",
       "    }\n",
       "\n",
       "    .dataframe tbody tr th {\n",
       "        vertical-align: top;\n",
       "    }\n",
       "\n",
       "    .dataframe thead th {\n",
       "        text-align: right;\n",
       "    }\n",
       "</style>\n",
       "<table border=\"1\" class=\"dataframe\">\n",
       "  <thead>\n",
       "    <tr style=\"text-align: right;\">\n",
       "      <th></th>\n",
       "      <th>subtract_step_test</th>\n",
       "      <th>subtract_step_control</th>\n",
       "    </tr>\n",
       "    <tr>\n",
       "      <th>step</th>\n",
       "      <th></th>\n",
       "      <th></th>\n",
       "    </tr>\n",
       "  </thead>\n",
       "  <tbody>\n",
       "    <tr>\n",
       "      <th>1</th>\n",
       "      <td>44862</td>\n",
       "      <td>34704</td>\n",
       "    </tr>\n",
       "    <tr>\n",
       "      <th>2</th>\n",
       "      <td>33895</td>\n",
       "      <td>24910</td>\n",
       "    </tr>\n",
       "    <tr>\n",
       "      <th>3</th>\n",
       "      <td>27847</td>\n",
       "      <td>22991</td>\n",
       "    </tr>\n",
       "    <tr>\n",
       "      <th>4</th>\n",
       "      <td>21035</td>\n",
       "      <td>17591</td>\n",
       "    </tr>\n",
       "  </tbody>\n",
       "</table>\n",
       "</div>"
      ],
      "text/plain": [
       "      subtract_step_test  subtract_step_control\n",
       "step                                           \n",
       "1                  44862                  34704\n",
       "2                  33895                  24910\n",
       "3                  27847                  22991\n",
       "4                  21035                  17591"
      ]
     },
     "execution_count": 49,
     "metadata": {},
     "output_type": "execute_result"
    }
   ],
   "source": [
    "# this takes into account all the sessions (regardless success/ validity)\n",
    "\n",
    "df_test_step_error = test_step_dur.groupby('step')['subtract_step'].agg(lambda x: (x < 0).count()).reset_index().set_index('step')\n",
    "df_test_step_error.drop(5, axis=0, inplace=True)\n",
    "df_control_step_error = control_step_dur.groupby('step')['subtract_step'].agg(lambda x: (x < 0).count()).reset_index().set_index('step')\n",
    "df_control_step_error.drop(5, axis=0, inplace=True)\n",
    "\n",
    "table_2 = df_test_step_error.join(df_control_step_error, lsuffix='_test', rsuffix='_control')\n",
    "table_2"
   ]
  },
  {
   "cell_type": "code",
   "execution_count": 50,
   "id": "fafe3c1d-b9c2-4a48-840b-df8436f9fb65",
   "metadata": {
    "scrolled": true
   },
   "outputs": [
    {
     "data": {
      "text/plain": [
       "(137.05705248046615, 1.629163597957003e-29)"
      ]
     },
     "execution_count": 50,
     "metadata": {},
     "output_type": "execute_result"
    }
   ],
   "source": [
    "# Chi-square test\n",
    "chi2_statistic, chi2_p_value, _, _ = chi2_contingency(table_2)\n",
    "chi2_statistic, chi2_p_value"
   ]
  },
  {
   "cell_type": "code",
   "execution_count": 51,
   "id": "b7a0030c-946e-4ea5-a45f-4df6e360f067",
   "metadata": {},
   "outputs": [
    {
     "data": {
      "text/plain": [
       "0.024526776482741177"
      ]
     },
     "execution_count": 51,
     "metadata": {},
     "output_type": "execute_result"
    }
   ],
   "source": [
    "# Computing the association between variables using the \"cramer\" method\n",
    "association(table_2, method=\"cramer\")"
   ]
  },
  {
   "cell_type": "markdown",
   "id": "625811f4-b55f-43cf-a3df-6e40248aeacb",
   "metadata": {},
   "source": [
    "That value shows weak association."
   ]
  },
  {
   "cell_type": "markdown",
   "id": "f8f2e374-2b0d-4b04-a475-c4c7c919b795",
   "metadata": {},
   "source": [
    "## Correlation between successful sessions and client age category"
   ]
  },
  {
   "cell_type": "code",
   "execution_count": 52,
   "id": "56fca62a-df4e-4088-be9f-1209e2727a96",
   "metadata": {
    "scrolled": true
   },
   "outputs": [],
   "source": [
    "# adding the age category column to the result dataframe\n",
    "df_test_rslt = df_test_rslt.merge(df_clients[['client_id', 'clnt_age_category']], on='client_id', how='left')\n",
    "df_control_rslt = df_control_rslt.merge(df_clients[['client_id', 'clnt_age_category']], on='client_id', how='left')"
   ]
  },
  {
   "cell_type": "code",
   "execution_count": 53,
   "id": "9b933e5d-38bd-401a-ab91-dbaf0db769ee",
   "metadata": {},
   "outputs": [],
   "source": [
    "# Total number of sessions per group\n",
    "test_sessions = df_test_rslt['session_id'].nunique() # 34883 sessions in total\n",
    "control_sessions = df_control_rslt['session_id'].nunique() # 32304 sessions in total\n",
    "# Total number of sessions that reached confirm\n",
    "test_confirm = df_test_rslt[df_test_rslt['confirm_cnt'] == 1]['session_id'].nunique() # 16654 confirmed\n",
    "control_confirm = df_control_rslt[df_control_rslt['confirm_cnt'] == 1]['session_id'].nunique() # 13534 confirmed"
   ]
  },
  {
   "cell_type": "code",
   "execution_count": 54,
   "id": "d28c0f6d-5455-4c01-95a8-5b0e7644c901",
   "metadata": {},
   "outputs": [],
   "source": [
    "# Making a dataframe for the crosstab\n",
    "test_for_crosstab = df_test_rslt[df_test_rslt['confirm_cnt'] == 1]\n",
    "test_for_crosstab = test_for_crosstab.dropna(subset = 'sess_dur_to_confirm')\n",
    "\n",
    "control_for_crosstab = df_control_rslt[df_control_rslt['confirm_cnt'] == 1]\n",
    "control_for_crosstab = control_for_crosstab.dropna(subset = 'sess_dur_to_confirm')"
   ]
  },
  {
   "cell_type": "code",
   "execution_count": 55,
   "id": "b5290fc6-a1bd-4d6f-8d2e-b4cc505bb14f",
   "metadata": {},
   "outputs": [],
   "source": [
    "# keeping the first line of each session to count the total sessions\n",
    "test_for_crosstab_ttl_sess = df_test_rslt[df_test_rslt['steps_cnt'] == 1]\n",
    "control_for_crosstab_ttl_sess = df_control_rslt[df_control_rslt['steps_cnt'] == 1]"
   ]
  },
  {
   "cell_type": "code",
   "execution_count": 56,
   "id": "13ac29ff-3efb-4f8e-b6de-57f7444a03fb",
   "metadata": {},
   "outputs": [
    {
     "data": {
      "text/html": [
       "<div>\n",
       "<style scoped>\n",
       "    .dataframe tbody tr th:only-of-type {\n",
       "        vertical-align: middle;\n",
       "    }\n",
       "\n",
       "    .dataframe tbody tr th {\n",
       "        vertical-align: top;\n",
       "    }\n",
       "\n",
       "    .dataframe thead th {\n",
       "        text-align: right;\n",
       "    }\n",
       "</style>\n",
       "<table border=\"1\" class=\"dataframe\">\n",
       "  <thead>\n",
       "    <tr style=\"text-align: right;\">\n",
       "      <th>col_0</th>\n",
       "      <th>test_sess_cnt</th>\n",
       "      <th>test_notconfirmed_sess_cnt</th>\n",
       "      <th>control_sess_cnt</th>\n",
       "      <th>control_notconfirmed_sess_cnt</th>\n",
       "    </tr>\n",
       "    <tr>\n",
       "      <th>clnt_age_category</th>\n",
       "      <th></th>\n",
       "      <th></th>\n",
       "      <th></th>\n",
       "      <th></th>\n",
       "    </tr>\n",
       "  </thead>\n",
       "  <tbody>\n",
       "    <tr>\n",
       "      <th>Under 18 year</th>\n",
       "      <td>39</td>\n",
       "      <td>43</td>\n",
       "      <td>45</td>\n",
       "      <td>45</td>\n",
       "    </tr>\n",
       "    <tr>\n",
       "      <th>18-24 years</th>\n",
       "      <td>1304</td>\n",
       "      <td>1166</td>\n",
       "      <td>1010</td>\n",
       "      <td>1193</td>\n",
       "    </tr>\n",
       "    <tr>\n",
       "      <th>25-34 years</th>\n",
       "      <td>3841</td>\n",
       "      <td>3094</td>\n",
       "      <td>2951</td>\n",
       "      <td>3220</td>\n",
       "    </tr>\n",
       "    <tr>\n",
       "      <th>35-44 years</th>\n",
       "      <td>2977</td>\n",
       "      <td>2694</td>\n",
       "      <td>2434</td>\n",
       "      <td>2820</td>\n",
       "    </tr>\n",
       "    <tr>\n",
       "      <th>45-54 years</th>\n",
       "      <td>3282</td>\n",
       "      <td>3897</td>\n",
       "      <td>2730</td>\n",
       "      <td>3739</td>\n",
       "    </tr>\n",
       "    <tr>\n",
       "      <th>55-64 years</th>\n",
       "      <td>3308</td>\n",
       "      <td>4788</td>\n",
       "      <td>2801</td>\n",
       "      <td>4941</td>\n",
       "    </tr>\n",
       "    <tr>\n",
       "      <th>65-74 years</th>\n",
       "      <td>1572</td>\n",
       "      <td>2932</td>\n",
       "      <td>1313</td>\n",
       "      <td>3075</td>\n",
       "    </tr>\n",
       "    <tr>\n",
       "      <th>75-84 years</th>\n",
       "      <td>250</td>\n",
       "      <td>750</td>\n",
       "      <td>200</td>\n",
       "      <td>781</td>\n",
       "    </tr>\n",
       "    <tr>\n",
       "      <th>85 years and older</th>\n",
       "      <td>47</td>\n",
       "      <td>78</td>\n",
       "      <td>29</td>\n",
       "      <td>129</td>\n",
       "    </tr>\n",
       "  </tbody>\n",
       "</table>\n",
       "</div>"
      ],
      "text/plain": [
       "col_0               test_sess_cnt  test_notconfirmed_sess_cnt  \\\n",
       "clnt_age_category                                               \n",
       "Under 18 year                  39                          43   \n",
       "18-24 years                  1304                        1166   \n",
       "25-34 years                  3841                        3094   \n",
       "35-44 years                  2977                        2694   \n",
       "45-54 years                  3282                        3897   \n",
       "55-64 years                  3308                        4788   \n",
       "65-74 years                  1572                        2932   \n",
       "75-84 years                   250                         750   \n",
       "85 years and older             47                          78   \n",
       "\n",
       "col_0               control_sess_cnt  control_notconfirmed_sess_cnt  \n",
       "clnt_age_category                                                    \n",
       "Under 18 year                     45                             45  \n",
       "18-24 years                     1010                           1193  \n",
       "25-34 years                     2951                           3220  \n",
       "35-44 years                     2434                           2820  \n",
       "45-54 years                     2730                           3739  \n",
       "55-64 years                     2801                           4941  \n",
       "65-74 years                     1313                           3075  \n",
       "75-84 years                      200                            781  \n",
       "85 years and older                29                            129  "
      ]
     },
     "execution_count": 56,
     "metadata": {},
     "output_type": "execute_result"
    }
   ],
   "source": [
    "# Grouping test data by age category and calculating the counts of completed and not completed sessions\n",
    "crosstab_result = pd.crosstab(test_for_crosstab['clnt_age_category'], columns='test_sess_cnt')\n",
    "crosstab_result_temp = pd.crosstab(control_for_crosstab['clnt_age_category'], columns='control_sess_cnt')\n",
    "crosstab_result = pd.concat([crosstab_result, crosstab_result_temp], axis=1)\n",
    "\n",
    "total_sessions_test = pd.crosstab(test_for_crosstab_ttl_sess['clnt_age_category'], columns='total_sessions')\n",
    "total_sessions_control = pd.crosstab(control_for_crosstab_ttl_sess['clnt_age_category'], columns='total_sessions')\n",
    "\n",
    "crosstab_result['test_notconfirmed_sess_cnt'] = total_sessions_test['total_sessions'] - crosstab_result['test_sess_cnt']\n",
    "crosstab_result['control_notconfirmed_sess_cnt'] = total_sessions_control['total_sessions'] - crosstab_result['control_sess_cnt']\n",
    "\n",
    "crosstab_result = crosstab_result[['test_sess_cnt','test_notconfirmed_sess_cnt','control_sess_cnt','control_notconfirmed_sess_cnt']]\n",
    "crosstab_result"
   ]
  },
  {
   "cell_type": "code",
   "execution_count": 57,
   "id": "44c5a04e-0d39-4689-8f66-2f2bf074f6f8",
   "metadata": {},
   "outputs": [],
   "source": [
    "# do the chi2 for test/ control seperately"
   ]
  },
  {
   "cell_type": "code",
   "execution_count": 58,
   "id": "f970ec72-207b-4bbf-80f5-3b351405d34d",
   "metadata": {},
   "outputs": [
    {
     "data": {
      "text/plain": [
       "(878.6212882495936, 2.3064521445922129e-184)"
      ]
     },
     "execution_count": 58,
     "metadata": {},
     "output_type": "execute_result"
    }
   ],
   "source": [
    "# Chi-square test \n",
    "chi2_statistic, chi2_p_value, _, _ = chi2_contingency(crosstab_result[['test_sess_cnt','test_notconfirmed_sess_cnt']])\n",
    "chi2_statistic, chi2_p_value"
   ]
  },
  {
   "cell_type": "code",
   "execution_count": 59,
   "id": "1e0ae5b1-ac7a-4725-8c71-05274dc2afae",
   "metadata": {},
   "outputs": [
    {
     "data": {
      "text/plain": [
       "(709.5208725535406, 6.380168336086995e-148)"
      ]
     },
     "execution_count": 59,
     "metadata": {},
     "output_type": "execute_result"
    }
   ],
   "source": [
    "# Chi-square test \n",
    "chi2_statistic, chi2_p_value, _, _ = chi2_contingency(crosstab_result[['control_sess_cnt','control_notconfirmed_sess_cnt']])\n",
    "chi2_statistic, chi2_p_value"
   ]
  },
  {
   "cell_type": "markdown",
   "id": "dd714d4c-e146-414e-96d3-dd2e6d535fe7",
   "metadata": {},
   "source": [
    "From the chi-squared test, given the very small p-value, much smaller than a typical significance level of 0.05, it indicates we can reject the null hypothesis. That means that there is an association (or dependence) between the categorical variables of the contingency table."
   ]
  },
  {
   "cell_type": "code",
   "execution_count": 60,
   "id": "1963847a-a055-4608-8981-5172a38bff8a",
   "metadata": {},
   "outputs": [
    {
     "data": {
      "text/plain": [
       "0.15609031473047624"
      ]
     },
     "execution_count": 60,
     "metadata": {},
     "output_type": "execute_result"
    }
   ],
   "source": [
    "# Computing the association between variables in 'crosstab_result' using the \"cramer\" method\n",
    "association(crosstab_result[['test_sess_cnt','test_notconfirmed_sess_cnt']], method=\"cramer\")"
   ]
  },
  {
   "cell_type": "code",
   "execution_count": 61,
   "id": "df580c20-5552-4f31-9df9-95861c2388d4",
   "metadata": {},
   "outputs": [
    {
     "data": {
      "text/plain": [
       "0.14562823309316944"
      ]
     },
     "execution_count": 61,
     "metadata": {},
     "output_type": "execute_result"
    }
   ],
   "source": [
    "# Computing the association between variables in 'crosstab_result' using the \"cramer\" method\n",
    "association(crosstab_result[['control_sess_cnt','control_notconfirmed_sess_cnt']], method=\"cramer\")"
   ]
  },
  {
   "cell_type": "markdown",
   "id": "579882f1-7f74-49c7-bfe4-9879738d489a",
   "metadata": {},
   "source": [
    "The value from the Cramer's V test suggests a very weak association."
   ]
  },
  {
   "cell_type": "code",
   "execution_count": 62,
   "id": "04677318-f46f-4622-b55d-b97c552b260f",
   "metadata": {},
   "outputs": [
    {
     "data": {
      "image/png": "[encoded data removed]",
      "text/plain": [
       "<Figure size 900x600 with 1 Axes>"
      ]
     },
     "metadata": {},
     "output_type": "display_data"
    }
   ],
   "source": [
    "# Selecting only the columns for the test and control groups\n",
    "test_group = crosstab_result[['test_sess_cnt', 'test_notconfirmed_sess_cnt']]\n",
    "control_group = crosstab_result[['control_sess_cnt', 'control_notconfirmed_sess_cnt']]\n",
    "\n",
    "# Extracting age categories\n",
    "age_categories = test_group.index\n",
    "\n",
    "\n",
    "# Extracting completed and not completed session counts for both groups\n",
    "completed_sessions_test = test_group['test_sess_cnt']\n",
    "not_completed_sessions_test = test_group['test_notconfirmed_sess_cnt']\n",
    "completed_sessions_control = control_group['control_sess_cnt']\n",
    "not_completed_sessions_control = control_group['control_notconfirmed_sess_cnt']\n",
    "\n",
    "# Calculating the difference between completed and not completed sessions for both groups\n",
    "diff_completed_not_completed_test = completed_sessions_test - not_completed_sessions_test\n",
    "diff_completed_not_completed_control = completed_sessions_control - not_completed_sessions_control\n",
    "\n",
    "# Define the figure size\n",
    "plt.figure(figsize=(9, 6))  # Adjust width and height as needed\n",
    "\n",
    "# Selecting only the columns for the test group\n",
    "test_group = crosstab_result[['test_sess_cnt', 'test_notconfirmed_sess_cnt']]\n",
    "\n",
    "# Extracting age categories\n",
    "age_categories = test_group.index\n",
    "\n",
    "# Width of the bars\n",
    "bar_width = 0.35\n",
    "\n",
    "# Position of bars on y-axis\n",
    "y = range(len(age_categories))\n",
    "\n",
    "# Plotting the bars for the test group\n",
    "bars_test = plt.barh(y, diff_completed_not_completed_test, height=bar_width, color='#DFC120', label='Test Group')\n",
    "\n",
    "# Plotting the bars for the control group\n",
    "bars_control = plt.barh([i + bar_width for i in y], diff_completed_not_completed_control, height=bar_width, color='#DF5D20', label='Control Group')\n",
    "\n",
    "# Adding labels, title, and legend\n",
    "plt.ylabel('Age Categories')\n",
    "plt.xlabel('Difference (Completed - Not Completed)')\n",
    "plt.title('Difference between Completed and Not Completed Sessions by Age Category')\n",
    "plt.yticks([i + bar_width / 2 for i in y], age_categories)\n",
    "plt.legend(loc='upper left')\n",
    "\n",
    "# Show plot\n",
    "plt.tight_layout()\n",
    "plt.savefig('difference_completed_vs_not_completed_per_group_and_per_age_group.png')\n",
    "plt.show()\n"
   ]
  }
 ],
 "metadata": {
  "kernelspec": {
   "display_name": "project_2",
   "language": "python",
   "name": "project_2"
  },
  "language_info": {
   "codemirror_mode": {
    "name": "ipython",
    "version": 3
   },
   "file_extension": ".py",
   "mimetype": "text/x-python",
   "name": "python",
   "nbconvert_exporter": "python",
   "pygments_lexer": "ipython3",
   "version": "3.11.8"
  }
 },
 "nbformat": 4,
 "nbformat_minor": 5
}
