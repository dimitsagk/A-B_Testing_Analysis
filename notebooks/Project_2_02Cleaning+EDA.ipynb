{
 "cells": [
  {
   "cell_type": "markdown",
   "id": "dfec3f57-62f6-4f55-a2d3-3207f9f57c39",
   "metadata": {},
   "source": [
    "# Importing libraries"
   ]
  },
  {
   "cell_type": "code",
   "execution_count": 1,
   "id": "38c8738f-d997-4d41-88fc-9e77fc6cfa14",
   "metadata": {},
   "outputs": [],
   "source": [
    "import pandas as pd\n",
    "import matplotlib.pyplot as plt\n",
    "import seaborn as sns\n",
    "import numpy as np"
   ]
  },
  {
   "cell_type": "markdown",
   "id": "bcf307d6-bc23-47f1-9410-1ed6f3068d51",
   "metadata": {},
   "source": [
    "# Loading dataset"
   ]
  },
  {
   "cell_type": "code",
   "execution_count": 2,
   "id": "76486e4d-0e18-4dc5-a7a3-6a7b5ac78f7f",
   "metadata": {},
   "outputs": [],
   "source": [
    "filepath1 = '../Data/df_final_demo.txt' # Client Profiles\n",
    "filepath2 = '../Data/df_final_web_data_pt_1.txt' # Digital Footprints, part 1\n",
    "filepath3 = '../Data/df_final_web_data_pt_2.txt' # Digital Footprints, part 2\n",
    "filepath4 = '../Data/df_final_experiment_clients.txt' # Experiment Roster \n",
    "\n",
    "# Loading datasets\n",
    "df_clients = pd.read_csv(filepath1)\n",
    "df2 = pd.read_csv(filepath2)\n",
    "df3 = pd.read_csv(filepath3)\n",
    "df_roster = pd.read_csv(filepath4)\n",
    "\n",
    "# Merging part 1 and 2 of Digital Footprints\n",
    "df_trace = pd.concat([df2, df3], axis=0)"
   ]
  },
  {
   "cell_type": "markdown",
   "id": "c8bd5ef7-8ce0-4206-a521-0f015436f47d",
   "metadata": {},
   "source": [
    "# Data cleaning"
   ]
  },
  {
   "cell_type": "markdown",
   "id": "a7903797-afb9-4444-9b4b-bc76bef99fed",
   "metadata": {},
   "source": [
    "#### Dropping null values"
   ]
  },
  {
   "cell_type": "code",
   "execution_count": 5,
   "id": "c56c5652-9e1a-4b93-95f1-233c82d84cb2",
   "metadata": {
    "scrolled": true
   },
   "outputs": [],
   "source": [
    "# Making a dataframe with the rows that only have client_id, and will be deleted, in case I need it in the future\n",
    "df_clients_with_na =  df_clients[df_clients.isna().sum(axis=1) > 7]"
   ]
  },
  {
   "cell_type": "code",
   "execution_count": 12,
   "id": "7ae2b07a-45ec-40fb-a23c-0ce950d606f1",
   "metadata": {},
   "outputs": [],
   "source": [
    "# Making a new dataframe with deleted rows that have as values only the client_id\n",
    "df_clients = df_clients.dropna(thresh = 8)"
   ]
  },
  {
   "cell_type": "markdown",
   "id": "3d5f8c97-a432-4bda-a06c-e568034c306b",
   "metadata": {},
   "source": [
    "#### Filling null values"
   ]
  },
  {
   "cell_type": "code",
   "execution_count": 7,
   "id": "fb311c39-9e0a-40d1-90eb-a910d616ceab",
   "metadata": {},
   "outputs": [],
   "source": [
    "# Replacing the null values at df_roster with \"Undefined\"\n",
    "df_roster[\"Variation\"] = df_roster[\"Variation\"].apply(str).replace('nan','Undefined')"
   ]
  },
  {
   "cell_type": "markdown",
   "id": "da7e0ead-006e-4725-85aa-5d7052b8fdce",
   "metadata": {},
   "source": [
    "#### Formatting"
   ]
  },
  {
   "cell_type": "code",
   "execution_count": 13,
   "id": "8a5e707d-d38e-44af-b405-e17b6773515b",
   "metadata": {},
   "outputs": [],
   "source": [
    "# Formatting df_roster columns as lowercase, to match all the other colomn names\n",
    "df_roster.columns = df_roster.columns.map(str.lower)"
   ]
  },
  {
   "cell_type": "code",
   "execution_count": 16,
   "id": "4c9b0de8-4d9c-421b-bf0c-73710b7c1604",
   "metadata": {},
   "outputs": [
    {
     "data": {
      "text/plain": [
       "client_id            object\n",
       "clnt_tenure_yr        int64\n",
       "clnt_tenure_mnth      int64\n",
       "clnt_age            float64\n",
       "gendr                object\n",
       "num_accts             int64\n",
       "bal                 float64\n",
       "calls_6_mnth          int64\n",
       "logons_6_mnth         int64\n",
       "dtype: object"
      ]
     },
     "execution_count": 16,
     "metadata": {},
     "output_type": "execute_result"
    }
   ],
   "source": [
    "df_clients.dtypes"
   ]
  },
  {
   "cell_type": "code",
   "execution_count": 15,
   "id": "a1c5d59f-94d3-4886-aba3-945481470d95",
   "metadata": {},
   "outputs": [],
   "source": [
    "# \"client_id\" to be casted as string, no intention to to perform mathematical operations on it\n",
    "df_clients.client_id = df_clients.client_id.apply(str)\n",
    "\n",
    "# casting the columns that I have tested are not real float number to integers\n",
    "df_clients[[\"clnt_tenure_yr\",\"clnt_tenure_mnth\",\"num_accts\",\n",
    "            \"calls_6_mnth\",\"logons_6_mnth\"]] = df_clients[[\"clnt_tenure_yr\",\"clnt_tenure_mnth\",\"num_accts\",\n",
    "                                                           \"calls_6_mnth\",\"logons_6_mnth\"]].map(int)"
   ]
  },
  {
   "cell_type": "code",
   "execution_count": 18,
   "id": "6573ad85-fe99-486c-9d26-76ed5e1375bb",
   "metadata": {},
   "outputs": [],
   "source": [
    "# \"client_id\" to be casted as string, no intention to to perform mathematical operations on it\n",
    "df_roster.client_id = df_roster.client_id.apply(str)"
   ]
  },
  {
   "cell_type": "code",
   "execution_count": 24,
   "id": "edc38236-4a97-420e-b580-dcaede680700",
   "metadata": {},
   "outputs": [],
   "source": [
    "# \"client_id\" to be casted as string, no intention to to perform mathematical operations on it\n",
    "df_trace.client_id = df_trace.client_id.apply(str)\n",
    "\n",
    "# casting date_time as datetime pandas object\n",
    "df_trace.date_time = pd.to_datetime(df_trace.date_time,format='%Y-%m-%d %H:%M:%S')"
   ]
  }
 ],
 "metadata": {
  "kernelspec": {
   "display_name": "project_2",
   "language": "python",
   "name": "project_2"
  },
  "language_info": {
   "codemirror_mode": {
    "name": "ipython",
    "version": 3
   },
   "file_extension": ".py",
   "mimetype": "text/x-python",
   "name": "python",
   "nbconvert_exporter": "python",
   "pygments_lexer": "ipython3",
   "version": "3.11.8"
  }
 },
 "nbformat": 4,
 "nbformat_minor": 5
}
